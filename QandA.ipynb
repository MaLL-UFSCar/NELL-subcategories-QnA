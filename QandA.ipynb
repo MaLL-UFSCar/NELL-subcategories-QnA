{
 "cells": [
  {
   "cell_type": "markdown",
   "metadata": {},
   "source": [
    "#Como chamar o Zenodotus\n",
    "import subprocess\n",
    "\n",
    "subprocess.call(['java', '-jar', 'zenodotus.jar', '-sc','movie', '-s', 'r.json'])"
   ]
  },
  {
   "cell_type": "code",
   "execution_count": 2,
   "metadata": {
    "collapsed": false
   },
   "outputs": [],
   "source": [
    "import pandas as pd\n",
    "from nltk import word_tokenize, pos_tag\n",
    "from nltk.stem.wordnet import WordNetLemmatizer\n",
    "from nltk.metrics import *\n",
    "import noun_phrase_extractor as npe\n",
    "import zenodotus as zd"
   ]
  },
  {
   "cell_type": "code",
   "execution_count": 3,
   "metadata": {
    "collapsed": false
   },
   "outputs": [],
   "source": [
    "#Leitura do DataFrame\n",
    "datapath = \"raw.json\"\n",
    "file = pd.read_json(datapath)"
   ]
  },
  {
   "cell_type": "code",
   "execution_count": 4,
   "metadata": {
    "collapsed": false,
    "scrolled": true
   },
   "outputs": [
    {
     "data": {
      "text/html": [
       "<div>\n",
       "<style>\n",
       "    .dataframe thead tr:only-child th {\n",
       "        text-align: right;\n",
       "    }\n",
       "\n",
       "    .dataframe thead th {\n",
       "        text-align: left;\n",
       "    }\n",
       "\n",
       "    .dataframe tbody tr th {\n",
       "        vertical-align: top;\n",
       "    }\n",
       "</style>\n",
       "<table border=\"1\" class=\"dataframe\">\n",
       "  <thead>\n",
       "    <tr style=\"text-align: right;\">\n",
       "      <th></th>\n",
       "      <th>topics</th>\n",
       "      <th>url</th>\n",
       "    </tr>\n",
       "  </thead>\n",
       "  <tbody>\n",
       "    <tr>\n",
       "      <th>0</th>\n",
       "      <td>{'answers': ['2pac ----- Good at the films he ...</td>\n",
       "      <td>https://answers.search.yahoo.com/search;_ylt=A...</td>\n",
       "    </tr>\n",
       "    <tr>\n",
       "      <th>1</th>\n",
       "      <td>{'answers': ['Film and TV \r\n",
       "Maria Conchita Alo...</td>\n",
       "      <td>https://answers.search.yahoo.com/search;_ylt=A...</td>\n",
       "    </tr>\n",
       "    <tr>\n",
       "      <th>2</th>\n",
       "      <td>{'answers': ['shah rukh khan \r\n",
       "salman khan \r\n",
       "a...</td>\n",
       "      <td>https://answers.search.yahoo.com/search;_ylt=A...</td>\n",
       "    </tr>\n",
       "    <tr>\n",
       "      <th>3</th>\n",
       "      <td>{'answers': ['Al Pacino --- Keanu Reeves \r\n",
       "Rob...</td>\n",
       "      <td>https://answers.search.yahoo.com/search;_ylt=A...</td>\n",
       "    </tr>\n",
       "    <tr>\n",
       "      <th>4</th>\n",
       "      <td>{'answers': ['Will Smith \r\n",
       "Terrence Howard \r\n",
       "F...</td>\n",
       "      <td>https://answers.search.yahoo.com/search;_ylt=A...</td>\n",
       "    </tr>\n",
       "  </tbody>\n",
       "</table>\n",
       "</div>"
      ],
      "text/plain": [
       "                                              topics  \\\n",
       "0  {'answers': ['2pac ----- Good at the films he ...   \n",
       "1  {'answers': ['Film and TV \n",
       "Maria Conchita Alo...   \n",
       "2  {'answers': ['shah rukh khan \n",
       "salman khan \n",
       "a...   \n",
       "3  {'answers': ['Al Pacino --- Keanu Reeves \n",
       "Rob...   \n",
       "4  {'answers': ['Will Smith \n",
       "Terrence Howard \n",
       "F...   \n",
       "\n",
       "                                                 url  \n",
       "0  https://answers.search.yahoo.com/search;_ylt=A...  \n",
       "1  https://answers.search.yahoo.com/search;_ylt=A...  \n",
       "2  https://answers.search.yahoo.com/search;_ylt=A...  \n",
       "3  https://answers.search.yahoo.com/search;_ylt=A...  \n",
       "4  https://answers.search.yahoo.com/search;_ylt=A...  "
      ]
     },
     "execution_count": 4,
     "metadata": {},
     "output_type": "execute_result"
    }
   ],
   "source": [
    "#Formato do DataFrame\n",
    "file.head()"
   ]
  },
  {
   "cell_type": "code",
   "execution_count": 5,
   "metadata": {
    "collapsed": false
   },
   "outputs": [],
   "source": [
    "#Tokeniza cada pergunta e guarda em um dicionario {Nº da pergunta : [Tokens]}\n",
    "tokenized = {}\n",
    "for line in file.index:\n",
    "    tokenized[line] = word_tokenize(file['topics'][line]['subject'])"
   ]
  },
  {
   "cell_type": "code",
   "execution_count": 6,
   "metadata": {
    "collapsed": true
   },
   "outputs": [],
   "source": [
    "#Categoriza cada token e guarda em um dicionario {Nº da Pergunta : [Tokens categorizados]}\n",
    "tagged = {}\n",
    "for n_pergunta, pergunta in tokenized.items():\n",
    "    tagged[n_pergunta] = pos_tag(pergunta)\n",
    "    \n",
    "#Podemos juntar esse \"for\" na célula acima caso concordemos que o código está correto"
   ]
  },
  {
   "cell_type": "code",
   "execution_count": 9,
   "metadata": {
    "collapsed": false
   },
   "outputs": [
    {
     "data": {
      "text/plain": [
       "[('Bad', 'NNP'),\n",
       " ('rap', 'NN'),\n",
       " ('actors', 'NNS'),\n",
       " ('good', 'JJ'),\n",
       " ('rap', 'NN'),\n",
       " ('actors', 'NNS'),\n",
       " ('list', 'NN'),\n",
       " ('?', '.')]"
      ]
     },
     "execution_count": 9,
     "metadata": {},
     "output_type": "execute_result"
    }
   ],
   "source": [
    "tagged[0]"
   ]
  },
  {
   "cell_type": "code",
   "execution_count": 11,
   "metadata": {
    "collapsed": false,
    "scrolled": true
   },
   "outputs": [],
   "source": [
    "#Faz o lemmatizing e guarda em um dicionario {Nº da pergunta : [Tokens categorizados e lemmatizados]}\n",
    "Lemmatizer = WordNetLemmatizer()\n",
    "\n",
    "lemmatized = {}\n",
    "for n_pergunta, pergunta_tokens in tagged.items():\n",
    "    aux = []\n",
    "    for i in range(len(pergunta_tokens)):\n",
    "        aux.append((Lemmatizer.lemmatize(pergunta_tokens[i][0]), tagged[n_pergunta][i][1]))\n",
    "    lemmatized[n_pergunta] = aux"
   ]
  },
  {
   "cell_type": "code",
   "execution_count": 8,
   "metadata": {
    "collapsed": false
   },
   "outputs": [
    {
     "data": {
      "text/plain": [
       "[('Bad', 'NNP'),\n",
       " ('rap', 'NN'),\n",
       " ('actor', 'NNS'),\n",
       " ('good', 'JJ'),\n",
       " ('rap', 'NN'),\n",
       " ('actor', 'NNS'),\n",
       " ('list', 'NN'),\n",
       " ('?', '.')]"
      ]
     },
     "execution_count": 8,
     "metadata": {},
     "output_type": "execute_result"
    }
   ],
   "source": [
    "lemmatized[0]"
   ]
  },
  {
   "cell_type": "code",
   "execution_count": 7,
   "metadata": {
    "collapsed": false
   },
   "outputs": [
    {
     "name": "stdout",
     "output_type": "stream",
     "text": [
      "Warning: parsing empty text\n",
      "Warning: parsing empty text\n",
      "Warning: parsing empty text\n",
      "Warning: parsing empty text\n",
      "Warning: parsing empty text\n",
      "Warning: parsing empty text\n"
     ]
    }
   ],
   "source": [
    "relations = {} # Dicionario com palavras relacionadas\n",
    "for i in file.index:\n",
    "    relations[i] = npe.extract(file.iloc[i,0]['subject'])"
   ]
  },
  {
   "cell_type": "code",
   "execution_count": 34,
   "metadata": {
    "collapsed": false
   },
   "outputs": [
    {
     "name": "stdout",
     "output_type": "stream",
     "text": [
      "Category found!\n"
     ]
    }
   ],
   "source": [
    "cn = zd.getCategory('movie')\n",
    "if(cn[0] is not None):\n",
    "    print(\"Category found!\")\n",
    "else:\n",
    "    print(\"Category not found!\")"
   ]
  },
  {
   "cell_type": "code",
   "execution_count": 49,
   "metadata": {
    "collapsed": false,
    "scrolled": true
   },
   "outputs": [],
   "source": [
    "for i in range(len(relations)):\n",
    "    for j in range(len(relations[i])):\n",
    "        for k in range(len(relations[i][j])):\n",
    "            if(any(cn[3]['instance_name'] == relations[i][j][k-1].lower() + '_' + relations[i][j][k].lower())):\n",
    "                print(relations[i][j][k], \" is a NELL category!\")"
   ]
  },
  {
   "cell_type": "code",
   "execution_count": 50,
   "metadata": {
    "collapsed": true
   },
   "outputs": [],
   "source": [
    "for i in range(len(lemmatized)):\n",
    "    for j in range(len(lemmatized[i])):\n",
    "            if(any(cn[3]['instance_name'] == lemmatized[i][j][0].lower())):\n",
    "                print(relations[i][j][k], \" is a NELL category!\")"
   ]
  }
 ],
 "metadata": {
  "kernelspec": {
   "display_name": "Python 3",
   "language": "python",
   "name": "python3"
  },
  "language_info": {
   "codemirror_mode": {
    "name": "ipython",
    "version": 3
   },
   "file_extension": ".py",
   "mimetype": "text/x-python",
   "name": "python",
   "nbconvert_exporter": "python",
   "pygments_lexer": "ipython3",
   "version": "3.5.4rc1"
  }
 },
 "nbformat": 4,
 "nbformat_minor": 2
}
