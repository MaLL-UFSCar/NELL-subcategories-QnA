{
 "cells": [
  {
   "cell_type": "markdown",
   "metadata": {},
   "source": [
    "#Como chamar o Zenodotus\n",
    "import subprocess\n",
    "\n",
    "subprocess.call(['java', '-jar', 'zenodotus.jar', '-sc','movie', '-s', 'r.json'])"
   ]
  },
  {
   "cell_type": "code",
   "execution_count": 1,
   "metadata": {
    "collapsed": true
   },
   "outputs": [],
   "source": [
    "import pandas as pd\n",
    "from nltk import word_tokenize, pos_tag\n",
    "from nltk.stem.snowball import SnowballStemmer"
   ]
  },
  {
   "cell_type": "code",
   "execution_count": 29,
   "metadata": {
    "collapsed": false
   },
   "outputs": [],
   "source": [
    "#Leitura do DataFrame\n",
    "datapath = \"raw.json\"\n",
    "file = pd.read_json(datapath)"
   ]
  },
  {
   "cell_type": "code",
   "execution_count": 30,
   "metadata": {
    "collapsed": false,
    "scrolled": true
   },
   "outputs": [
    {
     "data": {
      "text/html": [
       "<div>\n",
       "<style>\n",
       "    .dataframe thead tr:only-child th {\n",
       "        text-align: right;\n",
       "    }\n",
       "\n",
       "    .dataframe thead th {\n",
       "        text-align: left;\n",
       "    }\n",
       "\n",
       "    .dataframe tbody tr th {\n",
       "        vertical-align: top;\n",
       "    }\n",
       "</style>\n",
       "<table border=\"1\" class=\"dataframe\">\n",
       "  <thead>\n",
       "    <tr style=\"text-align: right;\">\n",
       "      <th></th>\n",
       "      <th>topics</th>\n",
       "      <th>url</th>\n",
       "    </tr>\n",
       "  </thead>\n",
       "  <tbody>\n",
       "    <tr>\n",
       "      <th>0</th>\n",
       "      <td>{'subject': 'Bad rap actors good rap actors li...</td>\n",
       "      <td>https://answers.search.yahoo.com/search;_ylt=A...</td>\n",
       "    </tr>\n",
       "    <tr>\n",
       "      <th>1</th>\n",
       "      <td>{'subject': 'list of hispanic actors?', 'quest...</td>\n",
       "      <td>https://answers.search.yahoo.com/search;_ylt=A...</td>\n",
       "    </tr>\n",
       "    <tr>\n",
       "      <th>2</th>\n",
       "      <td>{'subject': 'LiST OF ACTORS AND ACTRESSES?', '...</td>\n",
       "      <td>https://answers.search.yahoo.com/search;_ylt=A...</td>\n",
       "    </tr>\n",
       "    <tr>\n",
       "      <th>3</th>\n",
       "      <td>{'subject': 'Who are a and b list actors?', 'q...</td>\n",
       "      <td>https://answers.search.yahoo.com/search;_ylt=A...</td>\n",
       "    </tr>\n",
       "    <tr>\n",
       "      <th>4</th>\n",
       "      <td>{'subject': 'List of famous black actors?', 'q...</td>\n",
       "      <td>https://answers.search.yahoo.com/search;_ylt=A...</td>\n",
       "    </tr>\n",
       "  </tbody>\n",
       "</table>\n",
       "</div>"
      ],
      "text/plain": [
       "                                              topics  \\\n",
       "0  {'subject': 'Bad rap actors good rap actors li...   \n",
       "1  {'subject': 'list of hispanic actors?', 'quest...   \n",
       "2  {'subject': 'LiST OF ACTORS AND ACTRESSES?', '...   \n",
       "3  {'subject': 'Who are a and b list actors?', 'q...   \n",
       "4  {'subject': 'List of famous black actors?', 'q...   \n",
       "\n",
       "                                                 url  \n",
       "0  https://answers.search.yahoo.com/search;_ylt=A...  \n",
       "1  https://answers.search.yahoo.com/search;_ylt=A...  \n",
       "2  https://answers.search.yahoo.com/search;_ylt=A...  \n",
       "3  https://answers.search.yahoo.com/search;_ylt=A...  \n",
       "4  https://answers.search.yahoo.com/search;_ylt=A...  "
      ]
     },
     "execution_count": 30,
     "metadata": {},
     "output_type": "execute_result"
    }
   ],
   "source": [
    "#Formato do DataFrame\n",
    "file.head()"
   ]
  },
  {
   "cell_type": "code",
   "execution_count": 31,
   "metadata": {
    "collapsed": false
   },
   "outputs": [],
   "source": [
    "#Tokeniza cada pergunta e guarda em um dicionario {Nº da pergunta : [Tokens]}\n",
    "tokenized = {}\n",
    "for line in file.index:\n",
    "    tokenized[line] = word_tokenize(file['topics'][line]['subject'])"
   ]
  },
  {
   "cell_type": "code",
   "execution_count": 32,
   "metadata": {
    "collapsed": true
   },
   "outputs": [],
   "source": [
    "#Categoriza cada token stemmizado e guarda em um dicionario {Nº da Pergunta : [Tokens stemmizados e categorizados]}\n",
    "tagged = {}\n",
    "for n_pergunta, pergunta in tokenized.items():\n",
    "    tagged[n_pergunta] = pos_tag(pergunta)\n",
    "    \n",
    "#Podemos juntar esse \"for\" na célula acima caso concordemos que o código está correto"
   ]
  },
  {
   "cell_type": "code",
   "execution_count": 33,
   "metadata": {
    "collapsed": false,
    "scrolled": true
   },
   "outputs": [],
   "source": [
    "#Faz o stemming de cada pergunta e guarda em um dicionario {Nº da pergunta : [Tokens stemmizados]}\n",
    "Stemmer = SnowballStemmer(\"english\", ignore_stopwords=True)\n",
    "\n",
    "stemmed = {}\n",
    "for n_pergunta, pergunta_tokens in tagged.items():\n",
    "    aux = []\n",
    "    for i in range(len(pergunta_tokens)):\n",
    "        aux.append((Stemmer.stem(pergunta_tokens[i][0]), tagged[n_pergunta][i][1]))\n",
    "    stemmed[n_pergunta] = aux"
   ]
  }
 ],
 "metadata": {
  "kernelspec": {
   "display_name": "Python 3",
   "language": "python",
   "name": "python3"
  },
  "language_info": {
   "codemirror_mode": {
    "name": "ipython",
    "version": 3
   },
   "file_extension": ".py",
   "mimetype": "text/x-python",
   "name": "python",
   "nbconvert_exporter": "python",
   "pygments_lexer": "ipython3",
   "version": "3.5.4rc1"
  }
 },
 "nbformat": 4,
 "nbformat_minor": 2
}
