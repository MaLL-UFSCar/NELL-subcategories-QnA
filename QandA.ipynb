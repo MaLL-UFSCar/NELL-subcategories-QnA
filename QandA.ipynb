{
 "cells": [
  {
   "cell_type": "code",
   "execution_count": 1,
   "metadata": {
    "collapsed": true
   },
   "outputs": [],
   "source": [
    "import pandas as pd\n",
    "import nltk"
   ]
  },
  {
   "cell_type": "code",
   "execution_count": 2,
   "metadata": {
    "collapsed": true
   },
   "outputs": [],
   "source": [
    "#Leitura do DataFrame\n",
    "file = pd.read_json(\"raw.json\")"
   ]
  },
  {
   "cell_type": "code",
   "execution_count": 3,
   "metadata": {
    "collapsed": false
   },
   "outputs": [
    {
     "data": {
      "text/html": [
       "<div>\n",
       "<style>\n",
       "    .dataframe thead tr:only-child th {\n",
       "        text-align: right;\n",
       "    }\n",
       "\n",
       "    .dataframe thead th {\n",
       "        text-align: left;\n",
       "    }\n",
       "\n",
       "    .dataframe tbody tr th {\n",
       "        vertical-align: top;\n",
       "    }\n",
       "</style>\n",
       "<table border=\"1\" class=\"dataframe\">\n",
       "  <thead>\n",
       "    <tr style=\"text-align: right;\">\n",
       "      <th></th>\n",
       "      <th>topics</th>\n",
       "      <th>url</th>\n",
       "    </tr>\n",
       "  </thead>\n",
       "  <tbody>\n",
       "    <tr>\n",
       "      <th>0</th>\n",
       "      <td>{'question': 'Overall most rappers makes bad a...</td>\n",
       "      <td>https://answers.search.yahoo.com/search;_ylt=A...</td>\n",
       "    </tr>\n",
       "    <tr>\n",
       "      <th>1</th>\n",
       "      <td>{'question': 'what website can you find a list...</td>\n",
       "      <td>https://answers.search.yahoo.com/search;_ylt=A...</td>\n",
       "    </tr>\n",
       "    <tr>\n",
       "      <th>2</th>\n",
       "      <td>{'question': 'can u give me a long list of tod...</td>\n",
       "      <td>https://answers.search.yahoo.com/search;_ylt=A...</td>\n",
       "    </tr>\n",
       "    <tr>\n",
       "      <th>3</th>\n",
       "      <td>{'question': 'and i dont mean musicians or ath...</td>\n",
       "      <td>https://answers.search.yahoo.com/search;_ylt=A...</td>\n",
       "    </tr>\n",
       "    <tr>\n",
       "      <th>4</th>\n",
       "      <td>{'question': 'can you please give me a list of...</td>\n",
       "      <td>https://answers.search.yahoo.com/search;_ylt=A...</td>\n",
       "    </tr>\n",
       "  </tbody>\n",
       "</table>\n",
       "</div>"
      ],
      "text/plain": [
       "                                              topics  \\\n",
       "0  {'question': 'Overall most rappers makes bad a...   \n",
       "1  {'question': 'what website can you find a list...   \n",
       "2  {'question': 'can u give me a long list of tod...   \n",
       "3  {'question': 'and i dont mean musicians or ath...   \n",
       "4  {'question': 'can you please give me a list of...   \n",
       "\n",
       "                                                 url  \n",
       "0  https://answers.search.yahoo.com/search;_ylt=A...  \n",
       "1  https://answers.search.yahoo.com/search;_ylt=A...  \n",
       "2  https://answers.search.yahoo.com/search;_ylt=A...  \n",
       "3  https://answers.search.yahoo.com/search;_ylt=A...  \n",
       "4  https://answers.search.yahoo.com/search;_ylt=A...  "
      ]
     },
     "execution_count": 3,
     "metadata": {},
     "output_type": "execute_result"
    }
   ],
   "source": [
    "#Formato do DataFrame\n",
    "file.head()"
   ]
  },
  {
   "cell_type": "code",
   "execution_count": 4,
   "metadata": {
    "collapsed": false
   },
   "outputs": [
    {
     "data": {
      "text/plain": [
       "'can you please give me a list of the most famous black actors?'"
      ]
     },
     "execution_count": 4,
     "metadata": {},
     "output_type": "execute_result"
    }
   ],
   "source": [
    "#Como acessar determinada pergunta\n",
    "                #Indice     #Chave    \n",
    "pergunta1 = file.iloc[4,0]['question']\n",
    "\n",
    "pergunta1"
   ]
  },
  {
   "cell_type": "code",
   "execution_count": 5,
   "metadata": {
    "collapsed": false
   },
   "outputs": [
    {
     "data": {
      "text/plain": [
       "'Eddie Murphy \\r\\nMichael Clarke Duncan \\r\\nWill Smith \\r\\nMartin Lawrence \\r\\nChris Tucker \\r\\nChris Rock \\r\\nDenzel Washington \\r\\nAvery Brooks \\r\\nLavar Burton \\r\\nPhill LaMarr \\r\\nDave Chepelle'"
      ]
     },
     "execution_count": 5,
     "metadata": {},
     "output_type": "execute_result"
    }
   ],
   "source": [
    "#Como acessar determinada resposta\n",
    "                 #Indice   #Chave   #Numero da resposta\n",
    "resposta1 = file.iloc[4,0]['answers'][1]\n",
    "\n",
    "resposta1"
   ]
  },
  {
   "cell_type": "code",
   "execution_count": 6,
   "metadata": {
    "collapsed": false
   },
   "outputs": [
    {
     "data": {
      "text/plain": [
       "['please', 'give', 'list', 'famous', 'black', 'actors', '?']"
      ]
     },
     "execution_count": 6,
     "metadata": {},
     "output_type": "execute_result"
    }
   ],
   "source": [
    "#Tokenizando a pergunta por palavras\n",
    "q_tokens = nltk.word_tokenize(pergunta1)\n",
    "\n",
    "#Removendo stopwords\n",
    "clean_q_tokens = []\n",
    "for word in q_tokens:\n",
    "    if word not in nltk.corpus.stopwords.words(\"english\"):\n",
    "        clean_q_tokens.append(word)\n",
    "        \n",
    "clean_q_tokens"
   ]
  },
  {
   "cell_type": "code",
   "execution_count": 7,
   "metadata": {
    "collapsed": false
   },
   "outputs": [
    {
     "data": {
      "text/plain": [
       "['Eddie',\n",
       " 'Murphy',\n",
       " 'Michael',\n",
       " 'Clarke',\n",
       " 'Duncan',\n",
       " 'Will',\n",
       " 'Smith',\n",
       " 'Martin',\n",
       " 'Lawrence',\n",
       " 'Chris',\n",
       " 'Tucker',\n",
       " 'Chris',\n",
       " 'Rock',\n",
       " 'Denzel',\n",
       " 'Washington',\n",
       " 'Avery',\n",
       " 'Brooks',\n",
       " 'Lavar',\n",
       " 'Burton',\n",
       " 'Phill',\n",
       " 'LaMarr',\n",
       " 'Dave',\n",
       " 'Chepelle']"
      ]
     },
     "execution_count": 7,
     "metadata": {},
     "output_type": "execute_result"
    }
   ],
   "source": [
    "#Tokenizando a resposta por palavras\n",
    "a_tokens = nltk.word_tokenize(resposta1)\n",
    "\n",
    "#Removendo stopwords\n",
    "clean_a_tokens = []\n",
    "for word in a_tokens:\n",
    "    if word not in nltk.corpus.stopwords.words(\"english\"):\n",
    "        clean_a_tokens.append(word)\n",
    "        \n",
    "clean_a_tokens"
   ]
  },
  {
   "cell_type": "code",
   "execution_count": 10,
   "metadata": {
    "collapsed": false
   },
   "outputs": [
    {
     "data": {
      "text/plain": [
       "[('can', 'MD'),\n",
       " ('you', 'PRP'),\n",
       " ('please', 'VB'),\n",
       " ('give', 'VB'),\n",
       " ('me', 'PRP'),\n",
       " ('a', 'DT'),\n",
       " ('list', 'NN'),\n",
       " ('of', 'IN'),\n",
       " ('the', 'DT'),\n",
       " ('most', 'RBS'),\n",
       " ('famous', 'JJ'),\n",
       " ('black', 'JJ'),\n",
       " ('actors', 'NNS'),\n",
       " ('?', '.')]"
      ]
     },
     "execution_count": 10,
     "metadata": {},
     "output_type": "execute_result"
    }
   ],
   "source": [
    "#Atribuindo tags à pergunta\n",
    "q_tagged = nltk.pos_tag(q_tokens)\n",
    "\n",
    "q_tagged"
   ]
  },
  {
   "cell_type": "code",
   "execution_count": 11,
   "metadata": {
    "collapsed": false
   },
   "outputs": [
    {
     "data": {
      "text/plain": [
       "[('Eddie', 'NNP'),\n",
       " ('Murphy', 'NNP'),\n",
       " ('Michael', 'NNP'),\n",
       " ('Clarke', 'NNP'),\n",
       " ('Duncan', 'NNP'),\n",
       " ('Will', 'NNP'),\n",
       " ('Smith', 'NNP'),\n",
       " ('Martin', 'NNP'),\n",
       " ('Lawrence', 'NNP'),\n",
       " ('Chris', 'NNP'),\n",
       " ('Tucker', 'NNP'),\n",
       " ('Chris', 'NNP'),\n",
       " ('Rock', 'NNP'),\n",
       " ('Denzel', 'NNP'),\n",
       " ('Washington', 'NNP'),\n",
       " ('Avery', 'NNP'),\n",
       " ('Brooks', 'NNP'),\n",
       " ('Lavar', 'NNP'),\n",
       " ('Burton', 'NNP'),\n",
       " ('Phill', 'NNP'),\n",
       " ('LaMarr', 'NNP'),\n",
       " ('Dave', 'NNP'),\n",
       " ('Chepelle', 'NNP')]"
      ]
     },
     "execution_count": 11,
     "metadata": {},
     "output_type": "execute_result"
    }
   ],
   "source": [
    "#Atribuindo tags à resposta\n",
    "a_tagged = nltk.pos_tag(a_tokens)\n",
    "\n",
    "a_tagged"
   ]
  }
 ],
 "metadata": {
  "kernelspec": {
   "display_name": "Python 3",
   "language": "python",
   "name": "python3"
  },
  "language_info": {
   "codemirror_mode": {
    "name": "ipython",
    "version": 3
   },
   "file_extension": ".py",
   "mimetype": "text/x-python",
   "name": "python",
   "nbconvert_exporter": "python",
   "pygments_lexer": "ipython3",
   "version": "3.5.4rc1"
  }
 },
 "nbformat": 4,
 "nbformat_minor": 2
}
