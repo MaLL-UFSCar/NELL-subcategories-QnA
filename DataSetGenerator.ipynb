{
 "cells": [
  {
   "cell_type": "code",
   "execution_count": 1,
   "metadata": {},
   "outputs": [],
   "source": [
    "import ijson # $pip install ijson\n",
    "import pandas as pd\n",
    "import numpy as np\n",
    "\n",
    "from nltk import word_tokenize, pos_tag, wordnet\n",
    "from nltk.stem.snowball import SnowballStemmer\n",
    "\n",
    "import zenodotus as z\n",
    "import noun_phrase_extractor as npe"
   ]
  },
  {
   "cell_type": "markdown",
   "metadata": {},
   "source": [
    "# Importando dados de origem"
   ]
  },
  {
   "cell_type": "code",
   "execution_count": 2,
   "metadata": {},
   "outputs": [],
   "source": [
    "#Leitura do DataFrame\n",
    "datapath = \"raw.json\"\n",
    "\n",
    "sentences = []\n",
    "\n",
    "with open(datapath, 'r') as f:\n",
    "    objects = ijson.items(f, 'topics.item.subject') #Pulo do gato: item:são os elementos de uma lista\n",
    "    sentences = list(objects)\n",
    "\n",
    "    \n",
    "with open(datapath, 'r') as f:\n",
    "    objects2 = ijson.items(f, 'topics.item.question')\n",
    "    sentences.extend(list(objects2))\n",
    "\n",
    "    \n",
    "source  = pd.DataFrame({'sentence':sentences})"
   ]
  },
  {
   "cell_type": "code",
   "execution_count": 3,
   "metadata": {},
   "outputs": [
    {
     "data": {
      "text/html": [
       "<div>\n",
       "<style scoped>\n",
       "    .dataframe tbody tr th:only-of-type {\n",
       "        vertical-align: middle;\n",
       "    }\n",
       "\n",
       "    .dataframe tbody tr th {\n",
       "        vertical-align: top;\n",
       "    }\n",
       "\n",
       "    .dataframe thead th {\n",
       "        text-align: right;\n",
       "    }\n",
       "</style>\n",
       "<table border=\"1\" class=\"dataframe\">\n",
       "  <thead>\n",
       "    <tr style=\"text-align: right;\">\n",
       "      <th></th>\n",
       "      <th>sentence</th>\n",
       "    </tr>\n",
       "  </thead>\n",
       "  <tbody>\n",
       "    <tr>\n",
       "      <th>0</th>\n",
       "      <td>Bad rap actors good rap actors list?</td>\n",
       "    </tr>\n",
       "    <tr>\n",
       "      <th>1</th>\n",
       "      <td>list of hispanic actors?</td>\n",
       "    </tr>\n",
       "    <tr>\n",
       "      <th>2</th>\n",
       "      <td>LiST OF ACTORS AND ACTRESSES?</td>\n",
       "    </tr>\n",
       "    <tr>\n",
       "      <th>3</th>\n",
       "      <td>Who are a and b list actors?</td>\n",
       "    </tr>\n",
       "    <tr>\n",
       "      <th>4</th>\n",
       "      <td>List of famous black actors?</td>\n",
       "    </tr>\n",
       "  </tbody>\n",
       "</table>\n",
       "</div>"
      ],
      "text/plain": [
       "                               sentence\n",
       "0  Bad rap actors good rap actors list?\n",
       "1              list of hispanic actors?\n",
       "2         LiST OF ACTORS AND ACTRESSES?\n",
       "3          Who are a and b list actors?\n",
       "4          List of famous black actors?"
      ]
     },
     "execution_count": 3,
     "metadata": {},
     "output_type": "execute_result"
    }
   ],
   "source": [
    "source.head()"
   ]
  },
  {
   "cell_type": "code",
   "execution_count": 4,
   "metadata": {},
   "outputs": [
    {
     "data": {
      "text/plain": [
       "'5 feet or under. Good Actors, like Danny Divido.'"
      ]
     },
     "execution_count": 4,
     "metadata": {},
     "output_type": "execute_result"
    }
   ],
   "source": [
    "source.iloc[201,0]"
   ]
  },
  {
   "cell_type": "code",
   "execution_count": 5,
   "metadata": {},
   "outputs": [
    {
     "data": {
      "text/html": [
       "<div>\n",
       "<style scoped>\n",
       "    .dataframe tbody tr th:only-of-type {\n",
       "        vertical-align: middle;\n",
       "    }\n",
       "\n",
       "    .dataframe tbody tr th {\n",
       "        vertical-align: top;\n",
       "    }\n",
       "\n",
       "    .dataframe thead th {\n",
       "        text-align: right;\n",
       "    }\n",
       "</style>\n",
       "<table border=\"1\" class=\"dataframe\">\n",
       "  <thead>\n",
       "    <tr style=\"text-align: right;\">\n",
       "      <th></th>\n",
       "      <th>sentence</th>\n",
       "    </tr>\n",
       "  </thead>\n",
       "  <tbody>\n",
       "    <tr>\n",
       "      <th>6</th>\n",
       "      <td></td>\n",
       "    </tr>\n",
       "    <tr>\n",
       "      <th>62</th>\n",
       "      <td></td>\n",
       "    </tr>\n",
       "    <tr>\n",
       "      <th>126</th>\n",
       "      <td></td>\n",
       "    </tr>\n",
       "    <tr>\n",
       "      <th>133</th>\n",
       "      <td></td>\n",
       "    </tr>\n",
       "    <tr>\n",
       "      <th>142</th>\n",
       "      <td></td>\n",
       "    </tr>\n",
       "    <tr>\n",
       "      <th>147</th>\n",
       "      <td></td>\n",
       "    </tr>\n",
       "    <tr>\n",
       "      <th>148</th>\n",
       "      <td></td>\n",
       "    </tr>\n",
       "    <tr>\n",
       "      <th>166</th>\n",
       "      <td></td>\n",
       "    </tr>\n",
       "    <tr>\n",
       "      <th>167</th>\n",
       "      <td></td>\n",
       "    </tr>\n",
       "    <tr>\n",
       "      <th>168</th>\n",
       "      <td></td>\n",
       "    </tr>\n",
       "    <tr>\n",
       "      <th>180</th>\n",
       "      <td></td>\n",
       "    </tr>\n",
       "    <tr>\n",
       "      <th>184</th>\n",
       "      <td></td>\n",
       "    </tr>\n",
       "    <tr>\n",
       "      <th>189</th>\n",
       "      <td></td>\n",
       "    </tr>\n",
       "    <tr>\n",
       "      <th>200</th>\n",
       "      <td></td>\n",
       "    </tr>\n",
       "    <tr>\n",
       "      <th>208</th>\n",
       "      <td></td>\n",
       "    </tr>\n",
       "    <tr>\n",
       "      <th>209</th>\n",
       "      <td></td>\n",
       "    </tr>\n",
       "    <tr>\n",
       "      <th>228</th>\n",
       "      <td></td>\n",
       "    </tr>\n",
       "    <tr>\n",
       "      <th>242</th>\n",
       "      <td></td>\n",
       "    </tr>\n",
       "    <tr>\n",
       "      <th>244</th>\n",
       "      <td></td>\n",
       "    </tr>\n",
       "    <tr>\n",
       "      <th>252</th>\n",
       "      <td></td>\n",
       "    </tr>\n",
       "    <tr>\n",
       "      <th>253</th>\n",
       "      <td></td>\n",
       "    </tr>\n",
       "  </tbody>\n",
       "</table>\n",
       "</div>"
      ],
      "text/plain": [
       "    sentence\n",
       "6           \n",
       "62          \n",
       "126         \n",
       "133         \n",
       "142         \n",
       "147         \n",
       "148         \n",
       "166         \n",
       "167         \n",
       "168         \n",
       "180         \n",
       "184         \n",
       "189         \n",
       "200         \n",
       "208         \n",
       "209         \n",
       "228         \n",
       "242         \n",
       "244         \n",
       "252         \n",
       "253         "
      ]
     },
     "execution_count": 5,
     "metadata": {},
     "output_type": "execute_result"
    }
   ],
   "source": [
    "#existem dados faltantes?:\n",
    "source[source['sentence']=='']"
   ]
  },
  {
   "cell_type": "code",
   "execution_count": 6,
   "metadata": {},
   "outputs": [],
   "source": [
    "#removendo...\n",
    "source = source[source['sentence']!='']"
   ]
  },
  {
   "cell_type": "code",
   "execution_count": 7,
   "metadata": {},
   "outputs": [
    {
     "data": {
      "text/html": [
       "<div>\n",
       "<style scoped>\n",
       "    .dataframe tbody tr th:only-of-type {\n",
       "        vertical-align: middle;\n",
       "    }\n",
       "\n",
       "    .dataframe tbody tr th {\n",
       "        vertical-align: top;\n",
       "    }\n",
       "\n",
       "    .dataframe thead th {\n",
       "        text-align: right;\n",
       "    }\n",
       "</style>\n",
       "<table border=\"1\" class=\"dataframe\">\n",
       "  <thead>\n",
       "    <tr style=\"text-align: right;\">\n",
       "      <th></th>\n",
       "      <th>sentence</th>\n",
       "    </tr>\n",
       "  </thead>\n",
       "  <tbody>\n",
       "  </tbody>\n",
       "</table>\n",
       "</div>"
      ],
      "text/plain": [
       "Empty DataFrame\n",
       "Columns: [sentence]\n",
       "Index: []"
      ]
     },
     "execution_count": 7,
     "metadata": {},
     "output_type": "execute_result"
    }
   ],
   "source": [
    "#depois da remoção\n",
    "source[source['sentence']=='']"
   ]
  },
  {
   "cell_type": "code",
   "execution_count": 8,
   "metadata": {},
   "outputs": [],
   "source": [
    "#tokenização\n",
    "source['tokenized'] = source.apply(lambda row: word_tokenize(row['sentence']), axis=1)"
   ]
  },
  {
   "cell_type": "code",
   "execution_count": 9,
   "metadata": {},
   "outputs": [
    {
     "data": {
      "text/html": [
       "<div>\n",
       "<style scoped>\n",
       "    .dataframe tbody tr th:only-of-type {\n",
       "        vertical-align: middle;\n",
       "    }\n",
       "\n",
       "    .dataframe tbody tr th {\n",
       "        vertical-align: top;\n",
       "    }\n",
       "\n",
       "    .dataframe thead th {\n",
       "        text-align: right;\n",
       "    }\n",
       "</style>\n",
       "<table border=\"1\" class=\"dataframe\">\n",
       "  <thead>\n",
       "    <tr style=\"text-align: right;\">\n",
       "      <th></th>\n",
       "      <th>sentence</th>\n",
       "      <th>tokenized</th>\n",
       "    </tr>\n",
       "  </thead>\n",
       "  <tbody>\n",
       "    <tr>\n",
       "      <th>0</th>\n",
       "      <td>Bad rap actors good rap actors list?</td>\n",
       "      <td>[Bad, rap, actors, good, rap, actors, list, ?]</td>\n",
       "    </tr>\n",
       "    <tr>\n",
       "      <th>1</th>\n",
       "      <td>list of hispanic actors?</td>\n",
       "      <td>[list, of, hispanic, actors, ?]</td>\n",
       "    </tr>\n",
       "    <tr>\n",
       "      <th>2</th>\n",
       "      <td>LiST OF ACTORS AND ACTRESSES?</td>\n",
       "      <td>[LiST, OF, ACTORS, AND, ACTRESSES, ?]</td>\n",
       "    </tr>\n",
       "    <tr>\n",
       "      <th>3</th>\n",
       "      <td>Who are a and b list actors?</td>\n",
       "      <td>[Who, are, a, and, b, list, actors, ?]</td>\n",
       "    </tr>\n",
       "    <tr>\n",
       "      <th>4</th>\n",
       "      <td>List of famous black actors?</td>\n",
       "      <td>[List, of, famous, black, actors, ?]</td>\n",
       "    </tr>\n",
       "  </tbody>\n",
       "</table>\n",
       "</div>"
      ],
      "text/plain": [
       "                               sentence  \\\n",
       "0  Bad rap actors good rap actors list?   \n",
       "1              list of hispanic actors?   \n",
       "2         LiST OF ACTORS AND ACTRESSES?   \n",
       "3          Who are a and b list actors?   \n",
       "4          List of famous black actors?   \n",
       "\n",
       "                                        tokenized  \n",
       "0  [Bad, rap, actors, good, rap, actors, list, ?]  \n",
       "1                 [list, of, hispanic, actors, ?]  \n",
       "2           [LiST, OF, ACTORS, AND, ACTRESSES, ?]  \n",
       "3          [Who, are, a, and, b, list, actors, ?]  \n",
       "4            [List, of, famous, black, actors, ?]  "
      ]
     },
     "execution_count": 9,
     "metadata": {},
     "output_type": "execute_result"
    }
   ],
   "source": [
    "source.head()"
   ]
  },
  {
   "cell_type": "code",
   "execution_count": 10,
   "metadata": {},
   "outputs": [],
   "source": [
    "#POS Tagging\n",
    "source['tagged'] = source.apply(lambda row: pos_tag(row['tokenized']),axis=1)"
   ]
  },
  {
   "cell_type": "code",
   "execution_count": 11,
   "metadata": {},
   "outputs": [
    {
     "data": {
      "text/html": [
       "<div>\n",
       "<style scoped>\n",
       "    .dataframe tbody tr th:only-of-type {\n",
       "        vertical-align: middle;\n",
       "    }\n",
       "\n",
       "    .dataframe tbody tr th {\n",
       "        vertical-align: top;\n",
       "    }\n",
       "\n",
       "    .dataframe thead th {\n",
       "        text-align: right;\n",
       "    }\n",
       "</style>\n",
       "<table border=\"1\" class=\"dataframe\">\n",
       "  <thead>\n",
       "    <tr style=\"text-align: right;\">\n",
       "      <th></th>\n",
       "      <th>sentence</th>\n",
       "      <th>tokenized</th>\n",
       "      <th>tagged</th>\n",
       "    </tr>\n",
       "  </thead>\n",
       "  <tbody>\n",
       "    <tr>\n",
       "      <th>0</th>\n",
       "      <td>Bad rap actors good rap actors list?</td>\n",
       "      <td>[Bad, rap, actors, good, rap, actors, list, ?]</td>\n",
       "      <td>[(Bad, NNP), (rap, NN), (actors, NNS), (good, ...</td>\n",
       "    </tr>\n",
       "    <tr>\n",
       "      <th>1</th>\n",
       "      <td>list of hispanic actors?</td>\n",
       "      <td>[list, of, hispanic, actors, ?]</td>\n",
       "      <td>[(list, NN), (of, IN), (hispanic, JJ), (actors...</td>\n",
       "    </tr>\n",
       "    <tr>\n",
       "      <th>2</th>\n",
       "      <td>LiST OF ACTORS AND ACTRESSES?</td>\n",
       "      <td>[LiST, OF, ACTORS, AND, ACTRESSES, ?]</td>\n",
       "      <td>[(LiST, NN), (OF, IN), (ACTORS, NNP), (AND, NN...</td>\n",
       "    </tr>\n",
       "    <tr>\n",
       "      <th>3</th>\n",
       "      <td>Who are a and b list actors?</td>\n",
       "      <td>[Who, are, a, and, b, list, actors, ?]</td>\n",
       "      <td>[(Who, WP), (are, VBP), (a, DT), (and, CC), (b...</td>\n",
       "    </tr>\n",
       "    <tr>\n",
       "      <th>4</th>\n",
       "      <td>List of famous black actors?</td>\n",
       "      <td>[List, of, famous, black, actors, ?]</td>\n",
       "      <td>[(List, NN), (of, IN), (famous, JJ), (black, J...</td>\n",
       "    </tr>\n",
       "  </tbody>\n",
       "</table>\n",
       "</div>"
      ],
      "text/plain": [
       "                               sentence  \\\n",
       "0  Bad rap actors good rap actors list?   \n",
       "1              list of hispanic actors?   \n",
       "2         LiST OF ACTORS AND ACTRESSES?   \n",
       "3          Who are a and b list actors?   \n",
       "4          List of famous black actors?   \n",
       "\n",
       "                                        tokenized  \\\n",
       "0  [Bad, rap, actors, good, rap, actors, list, ?]   \n",
       "1                 [list, of, hispanic, actors, ?]   \n",
       "2           [LiST, OF, ACTORS, AND, ACTRESSES, ?]   \n",
       "3          [Who, are, a, and, b, list, actors, ?]   \n",
       "4            [List, of, famous, black, actors, ?]   \n",
       "\n",
       "                                              tagged  \n",
       "0  [(Bad, NNP), (rap, NN), (actors, NNS), (good, ...  \n",
       "1  [(list, NN), (of, IN), (hispanic, JJ), (actors...  \n",
       "2  [(LiST, NN), (OF, IN), (ACTORS, NNP), (AND, NN...  \n",
       "3  [(Who, WP), (are, VBP), (a, DT), (and, CC), (b...  \n",
       "4  [(List, NN), (of, IN), (famous, JJ), (black, J...  "
      ]
     },
     "execution_count": 11,
     "metadata": {},
     "output_type": "execute_result"
    }
   ],
   "source": [
    "source.head()"
   ]
  },
  {
   "cell_type": "code",
   "execution_count": 12,
   "metadata": {},
   "outputs": [],
   "source": [
    "#Extração de noun-phrases\n",
    "source['noun-phrases'] = source.apply(lambda row: npe.extract_cleanned(row['sentence']),axis=1)"
   ]
  },
  {
   "cell_type": "code",
   "execution_count": 13,
   "metadata": {},
   "outputs": [
    {
     "data": {
      "text/html": [
       "<div>\n",
       "<style scoped>\n",
       "    .dataframe tbody tr th:only-of-type {\n",
       "        vertical-align: middle;\n",
       "    }\n",
       "\n",
       "    .dataframe tbody tr th {\n",
       "        vertical-align: top;\n",
       "    }\n",
       "\n",
       "    .dataframe thead th {\n",
       "        text-align: right;\n",
       "    }\n",
       "</style>\n",
       "<table border=\"1\" class=\"dataframe\">\n",
       "  <thead>\n",
       "    <tr style=\"text-align: right;\">\n",
       "      <th></th>\n",
       "      <th>sentence</th>\n",
       "      <th>tokenized</th>\n",
       "      <th>tagged</th>\n",
       "      <th>noun-phrases</th>\n",
       "    </tr>\n",
       "  </thead>\n",
       "  <tbody>\n",
       "    <tr>\n",
       "      <th>0</th>\n",
       "      <td>Bad rap actors good rap actors list?</td>\n",
       "      <td>[Bad, rap, actors, good, rap, actors, list, ?]</td>\n",
       "      <td>[(Bad, NNP), (rap, NN), (actors, NNS), (good, ...</td>\n",
       "      <td>[[bad, rap, actor, good, rap, actor, list]]</td>\n",
       "    </tr>\n",
       "    <tr>\n",
       "      <th>1</th>\n",
       "      <td>list of hispanic actors?</td>\n",
       "      <td>[list, of, hispanic, actors, ?]</td>\n",
       "      <td>[(list, NN), (of, IN), (hispanic, JJ), (actors...</td>\n",
       "      <td>[[hispanic, actor]]</td>\n",
       "    </tr>\n",
       "    <tr>\n",
       "      <th>2</th>\n",
       "      <td>LiST OF ACTORS AND ACTRESSES?</td>\n",
       "      <td>[LiST, OF, ACTORS, AND, ACTRESSES, ?]</td>\n",
       "      <td>[(LiST, NN), (OF, IN), (ACTORS, NNP), (AND, NN...</td>\n",
       "      <td>[[list,  act, ors and actresses?]]</td>\n",
       "    </tr>\n",
       "    <tr>\n",
       "      <th>3</th>\n",
       "      <td>Who are a and b list actors?</td>\n",
       "      <td>[Who, are, a, and, b, list, actors, ?]</td>\n",
       "      <td>[(Who, WP), (are, VBP), (a, DT), (and, CC), (b...</td>\n",
       "      <td>[[list, actor]]</td>\n",
       "    </tr>\n",
       "    <tr>\n",
       "      <th>4</th>\n",
       "      <td>List of famous black actors?</td>\n",
       "      <td>[List, of, famous, black, actors, ?]</td>\n",
       "      <td>[(List, NN), (of, IN), (famous, JJ), (black, J...</td>\n",
       "      <td>[[famous, black, actor]]</td>\n",
       "    </tr>\n",
       "  </tbody>\n",
       "</table>\n",
       "</div>"
      ],
      "text/plain": [
       "                               sentence  \\\n",
       "0  Bad rap actors good rap actors list?   \n",
       "1              list of hispanic actors?   \n",
       "2         LiST OF ACTORS AND ACTRESSES?   \n",
       "3          Who are a and b list actors?   \n",
       "4          List of famous black actors?   \n",
       "\n",
       "                                        tokenized  \\\n",
       "0  [Bad, rap, actors, good, rap, actors, list, ?]   \n",
       "1                 [list, of, hispanic, actors, ?]   \n",
       "2           [LiST, OF, ACTORS, AND, ACTRESSES, ?]   \n",
       "3          [Who, are, a, and, b, list, actors, ?]   \n",
       "4            [List, of, famous, black, actors, ?]   \n",
       "\n",
       "                                              tagged  \\\n",
       "0  [(Bad, NNP), (rap, NN), (actors, NNS), (good, ...   \n",
       "1  [(list, NN), (of, IN), (hispanic, JJ), (actors...   \n",
       "2  [(LiST, NN), (OF, IN), (ACTORS, NNP), (AND, NN...   \n",
       "3  [(Who, WP), (are, VBP), (a, DT), (and, CC), (b...   \n",
       "4  [(List, NN), (of, IN), (famous, JJ), (black, J...   \n",
       "\n",
       "                                  noun-phrases  \n",
       "0  [[bad, rap, actor, good, rap, actor, list]]  \n",
       "1                          [[hispanic, actor]]  \n",
       "2           [[list,  act, ors and actresses?]]  \n",
       "3                              [[list, actor]]  \n",
       "4                     [[famous, black, actor]]  "
      ]
     },
     "execution_count": 13,
     "metadata": {},
     "output_type": "execute_result"
    }
   ],
   "source": [
    "source.head()"
   ]
  },
  {
   "cell_type": "code",
   "execution_count": 14,
   "metadata": {},
   "outputs": [],
   "source": [
    "words = []\n",
    "for i,row in source.iterrows():\n",
    "    for phrase in row['noun-phrases']:\n",
    "        #print(i, phrase)\n",
    "        for word in phrase:\n",
    "            words.append(word)\n",
    "nellkb = pd.DataFrame({'word':words})"
   ]
  },
  {
   "cell_type": "code",
   "execution_count": 15,
   "metadata": {},
   "outputs": [],
   "source": [
    "nellkb = nellkb.drop_duplicates()"
   ]
  },
  {
   "cell_type": "code",
   "execution_count": 18,
   "metadata": {},
   "outputs": [],
   "source": [
    "nellkb['is_category'] = nellkb.apply(lambda row: z.isCategory(row['word']),axis=1)"
   ]
  },
  {
   "cell_type": "code",
   "execution_count": 41,
   "metadata": {},
   "outputs": [
    {
     "data": {
      "text/plain": [
       "True"
      ]
     },
     "execution_count": 41,
     "metadata": {},
     "output_type": "execute_result"
    }
   ],
   "source": [
    "categories = nellkb[nellkb['is_category'] == 'yes']['word'].tolist()\n",
    "'actor' in categories"
   ]
  },
  {
   "cell_type": "code",
   "execution_count": null,
   "metadata": {},
   "outputs": [],
   "source": [
    "#\n",
    "for irow, row in source.iterrows():\n",
    "    print(source['sentence'][irow])\n",
    "    #Gerando um dataframe provisório para busca nos dados\n",
    "    tagged_data_frame = pd.DataFrame(source['tagged'][irow],columns=['word','tag'])\n",
    "    \n",
    "    #TODO: Lematizar\n",
    "    #...\n",
    "    #transformando em minúsculas\n",
    "    tagged_data_frame['word'] = tagged_data_frame.apply(lambda row: row['word'].lower(),axis=1)\n",
    "    \n",
    "    #print(tagged_data_frame.head())\n",
    "       \n",
    "    for iphrase, phrase in enumerate(row['noun-phrases']):\n",
    "        for iword, word in enumerate(phrase):\n",
    "            print(word in tagged_data_frame['word'])"
   ]
  },
  {
   "cell_type": "code",
   "execution_count": null,
   "metadata": {},
   "outputs": [],
   "source": [
    "#data = {'sentence':[],'word':[],'word_tag':[],'word_is_category':[]\n",
    "#                          ,'nell_category':[],'nell_category_tag':[],'distance_from_category':[]\n",
    "#                         ,'number_of_occurrences':[],'is_category_candidate':[]}\n",
    "dataset = pd.DataFrame()\n",
    "print(dataset.head());\n",
    "for irow, row in source.iterrows():\n",
    "    for iphrase, phrase in enumerate(row['noun-phrases']):\n",
    "        print(irow,iphrase,phrase)\n",
    "        is_category = []\n",
    "        #Buscando categorias na base da NELL e Gerando o Dataframe\n",
    "        for word in phrase:\n",
    "            cat = z.getCategory(word)\n",
    "            #Verifica se a palavra é uma categoria da NELL\n",
    "            if(cat['category_name'] is not None): \n",
    "                is_category.append('yes')\n",
    "            else:\n",
    "                is_category.append('no')\n",
    "        df = pd.DataFrame({'word':phrase, 'is_category':is_category})\n",
    "        words_list = []\n",
    "        categories = []\n",
    "        for category in df[df['is_category'] == 'yes']['word'].items():\n",
    "            for word in df[df['word'] != category[1]]['word'].items():\n",
    "                words_list.append(word[1])\n",
    "                categories.append(category[1])\n",
    "        dfr = pd.DataFrame({'word':words_list, 'category':categories})\n",
    "        dataset = pd.concat([dataset,dfr])\n",
    "        print(dataset.head())"
   ]
  },
  {
   "cell_type": "code",
   "execution_count": null,
   "metadata": {},
   "outputs": [],
   "source": [
    "dataset['word'].unique()"
   ]
  },
  {
   "cell_type": "code",
   "execution_count": null,
   "metadata": {},
   "outputs": [],
   "source": [
    "dataset.drop_duplicates()"
   ]
  }
 ],
 "metadata": {
  "kernelspec": {
   "display_name": "Python 3",
   "language": "python",
   "name": "python3"
  },
  "language_info": {
   "codemirror_mode": {
    "name": "ipython",
    "version": 3
   },
   "file_extension": ".py",
   "mimetype": "text/x-python",
   "name": "python",
   "nbconvert_exporter": "python",
   "pygments_lexer": "ipython3",
   "version": "3.6.4"
  }
 },
 "nbformat": 4,
 "nbformat_minor": 2
}
