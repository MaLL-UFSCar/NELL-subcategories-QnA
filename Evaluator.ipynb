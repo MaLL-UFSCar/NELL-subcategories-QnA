{
 "cells": [
  {
   "cell_type": "markdown",
   "metadata": {},
   "source": [
    "# 0. Seleção dos algoritmos\n",
    "\n",
    "## Linear Models\n",
    "- Perceptron\n",
    "- LinearSVC (SVM for classification)\n",
    "## Support Vector Machines\n",
    "- SVC (Support Vector Classification)\n",
    "## Stochastic Gradient Descent\n",
    "- SGDClassifier\n",
    "## K Nearest Neighbors\n",
    "- KNearestNeighbors\n",
    "## Naive Bayes\n",
    "- Gaussian Naive Bayes\n",
    "## Decision Trees\n",
    "- CART\n",
    "## Ensemble methods\n",
    "- Random Forests\n",
    "## Neural network models\n",
    "- Multi-layer Perceptron"
   ]
  },
  {
   "cell_type": "markdown",
   "metadata": {},
   "source": [
    "# 1. Preparando o ambiente"
   ]
  },
  {
   "cell_type": "code",
   "execution_count": 1,
   "metadata": {},
   "outputs": [],
   "source": [
    "import numpy as np\n",
    "import pandas as pd\n",
    "\n",
    "#Algoritmos\n",
    "from sklearn.linear_model import Perceptron\n",
    "from sklearn.svm import LinearSVC\n",
    "from sklearn.svm import SVC\n",
    "from sklearn.linear_model import SGDClassifier\n",
    "from sklearn.neighbors import NearestNeighbors\n",
    "from sklearn.naive_bayes import GaussianNB\n",
    "from sklearn import tree\n",
    "from sklearn.ensemble import RandomForestClassifier\n",
    "from sklearn.neural_network import MLPClassifier\n",
    "\n",
    "from sklearn.preprocessing import Imputer\n",
    "from sklearn.preprocessing import LabelEncoder\n",
    "\n",
    "from sklearn.model_selection import train_test_split\n",
    "from sklearn.model_selection import cross_val_score"
   ]
  },
  {
   "cell_type": "markdown",
   "metadata": {},
   "source": [
    "# 2. Configurando os algoritmos"
   ]
  },
  {
   "cell_type": "code",
   "execution_count": 2,
   "metadata": {},
   "outputs": [],
   "source": [
    "classifiers= []"
   ]
  },
  {
   "cell_type": "markdown",
   "metadata": {},
   "source": [
    "## 2.1. Perceptron"
   ]
  },
  {
   "cell_type": "code",
   "execution_count": 3,
   "metadata": {},
   "outputs": [
    {
     "data": {
      "text/plain": [
       "Perceptron(alpha=0.0001, class_weight=None, eta0=1.0, fit_intercept=True,\n",
       "      max_iter=None, n_iter=None, n_jobs=1, penalty=None, random_state=0,\n",
       "      shuffle=True, tol=None, verbose=0, warm_start=False)"
      ]
     },
     "execution_count": 3,
     "metadata": {},
     "output_type": "execute_result"
    },
    {
     "data": {
      "text/plain": [
       "Perceptron(alpha=0.0001, class_weight=None, eta0=1.0, fit_intercept=True,\n",
       "      max_iter=None, n_iter=None, n_jobs=1, penalty=None, random_state=0,\n",
       "      shuffle=True, tol=None, verbose=0, warm_start=False)"
      ]
     },
     "execution_count": 3,
     "metadata": {},
     "output_type": "execute_result"
    }
   ],
   "source": [
    "classifiers.append(Perceptron())\n",
    "classifiers[-1]"
   ]
  },
  {
   "cell_type": "markdown",
   "metadata": {},
   "source": [
    "## 2.2. LinearSVC"
   ]
  },
  {
   "cell_type": "code",
   "execution_count": 4,
   "metadata": {},
   "outputs": [
    {
     "data": {
      "text/plain": [
       "LinearSVC(C=1.0, class_weight=None, dual=True, fit_intercept=True,\n",
       "     intercept_scaling=1, loss='squared_hinge', max_iter=1000,\n",
       "     multi_class='ovr', penalty='l2', random_state=None, tol=0.0001,\n",
       "     verbose=0)"
      ]
     },
     "execution_count": 4,
     "metadata": {},
     "output_type": "execute_result"
    },
    {
     "data": {
      "text/plain": [
       "LinearSVC(C=1.0, class_weight=None, dual=True, fit_intercept=True,\n",
       "     intercept_scaling=1, loss='squared_hinge', max_iter=1000,\n",
       "     multi_class='ovr', penalty='l2', random_state=None, tol=0.0001,\n",
       "     verbose=0)"
      ]
     },
     "execution_count": 4,
     "metadata": {},
     "output_type": "execute_result"
    }
   ],
   "source": [
    "classifiers.append(LinearSVC())\n",
    "classifiers[-1]"
   ]
  },
  {
   "cell_type": "markdown",
   "metadata": {},
   "source": [
    "## 2.3. SVC"
   ]
  },
  {
   "cell_type": "code",
   "execution_count": 5,
   "metadata": {},
   "outputs": [
    {
     "data": {
      "text/plain": [
       "SVC(C=1.0, cache_size=200, class_weight=None, coef0=0.0,\n",
       "  decision_function_shape='ovr', degree=3, gamma='auto', kernel='rbf',\n",
       "  max_iter=-1, probability=False, random_state=None, shrinking=True,\n",
       "  tol=0.001, verbose=False)"
      ]
     },
     "execution_count": 5,
     "metadata": {},
     "output_type": "execute_result"
    },
    {
     "data": {
      "text/plain": [
       "SVC(C=1.0, cache_size=200, class_weight=None, coef0=0.0,\n",
       "  decision_function_shape='ovr', degree=3, gamma='auto', kernel='rbf',\n",
       "  max_iter=-1, probability=False, random_state=None, shrinking=True,\n",
       "  tol=0.001, verbose=False)"
      ]
     },
     "execution_count": 5,
     "metadata": {},
     "output_type": "execute_result"
    }
   ],
   "source": [
    "classifiers.append(SVC())\n",
    "classifiers[-1]"
   ]
  },
  {
   "cell_type": "markdown",
   "metadata": {},
   "source": [
    "## 2.4. SGDClassifier"
   ]
  },
  {
   "cell_type": "code",
   "execution_count": 6,
   "metadata": {},
   "outputs": [
    {
     "data": {
      "text/plain": [
       "SGDClassifier(alpha=0.0001, average=False, class_weight=None, epsilon=0.1,\n",
       "       eta0=0.0, fit_intercept=True, l1_ratio=0.15,\n",
       "       learning_rate='optimal', loss='hinge', max_iter=None, n_iter=None,\n",
       "       n_jobs=1, penalty='l2', power_t=0.5, random_state=None,\n",
       "       shuffle=True, tol=None, verbose=0, warm_start=False)"
      ]
     },
     "execution_count": 6,
     "metadata": {},
     "output_type": "execute_result"
    },
    {
     "data": {
      "text/plain": [
       "SGDClassifier(alpha=0.0001, average=False, class_weight=None, epsilon=0.1,\n",
       "       eta0=0.0, fit_intercept=True, l1_ratio=0.15,\n",
       "       learning_rate='optimal', loss='hinge', max_iter=None, n_iter=None,\n",
       "       n_jobs=1, penalty='l2', power_t=0.5, random_state=None,\n",
       "       shuffle=True, tol=None, verbose=0, warm_start=False)"
      ]
     },
     "execution_count": 6,
     "metadata": {},
     "output_type": "execute_result"
    }
   ],
   "source": [
    "classifiers.append(SGDClassifier())\n",
    "classifiers[-1]"
   ]
  },
  {
   "cell_type": "markdown",
   "metadata": {},
   "source": [
    "## 2.5. NearestNeighbors"
   ]
  },
  {
   "cell_type": "code",
   "execution_count": 28,
   "metadata": {},
   "outputs": [
    {
     "data": {
      "text/plain": [
       "NearestNeighbors(algorithm='brute', leaf_size=30, metric='euclidean',\n",
       "         metric_params=None, n_jobs=1, n_neighbors=7, p=2, radius=1.0)"
      ]
     },
     "execution_count": 28,
     "metadata": {},
     "output_type": "execute_result"
    },
    {
     "data": {
      "text/plain": [
       "NearestNeighbors(algorithm='brute', leaf_size=30, metric='euclidean',\n",
       "         metric_params=None, n_jobs=1, n_neighbors=7, p=2, radius=1.0)"
      ]
     },
     "execution_count": 28,
     "metadata": {},
     "output_type": "execute_result"
    }
   ],
   "source": [
    "classifiers.append(KNeighborsClassifier(n_neighbors=7))\n",
    "classifiers[-1]"
   ]
  },
  {
   "cell_type": "markdown",
   "metadata": {},
   "source": [
    "## 2.6. GaussianNB"
   ]
  },
  {
   "cell_type": "code",
   "execution_count": 8,
   "metadata": {},
   "outputs": [
    {
     "data": {
      "text/plain": [
       "GaussianNB(priors=None)"
      ]
     },
     "execution_count": 8,
     "metadata": {},
     "output_type": "execute_result"
    },
    {
     "data": {
      "text/plain": [
       "GaussianNB(priors=None)"
      ]
     },
     "execution_count": 8,
     "metadata": {},
     "output_type": "execute_result"
    }
   ],
   "source": [
    "classifiers.append(GaussianNB())\n",
    "classifiers[-1]"
   ]
  },
  {
   "cell_type": "markdown",
   "metadata": {},
   "source": [
    "## 2.7. tree"
   ]
  },
  {
   "cell_type": "code",
   "execution_count": 9,
   "metadata": {},
   "outputs": [
    {
     "data": {
      "text/plain": [
       "DecisionTreeClassifier(class_weight=None, criterion='gini', max_depth=None,\n",
       "            max_features=None, max_leaf_nodes=None,\n",
       "            min_impurity_decrease=0.0, min_impurity_split=None,\n",
       "            min_samples_leaf=1, min_samples_split=2,\n",
       "            min_weight_fraction_leaf=0.0, presort=False, random_state=None,\n",
       "            splitter='best')"
      ]
     },
     "execution_count": 9,
     "metadata": {},
     "output_type": "execute_result"
    },
    {
     "data": {
      "text/plain": [
       "DecisionTreeClassifier(class_weight=None, criterion='gini', max_depth=None,\n",
       "            max_features=None, max_leaf_nodes=None,\n",
       "            min_impurity_decrease=0.0, min_impurity_split=None,\n",
       "            min_samples_leaf=1, min_samples_split=2,\n",
       "            min_weight_fraction_leaf=0.0, presort=False, random_state=None,\n",
       "            splitter='best')"
      ]
     },
     "execution_count": 9,
     "metadata": {},
     "output_type": "execute_result"
    }
   ],
   "source": [
    "classifiers.append(tree.DecisionTreeClassifier())\n",
    "classifiers[-1]"
   ]
  },
  {
   "cell_type": "markdown",
   "metadata": {},
   "source": [
    "## 2.8. RandomForestClassifier"
   ]
  },
  {
   "cell_type": "code",
   "execution_count": 10,
   "metadata": {},
   "outputs": [
    {
     "data": {
      "text/plain": [
       "RandomForestClassifier(bootstrap=True, class_weight=None, criterion='gini',\n",
       "            max_depth=None, max_features='auto', max_leaf_nodes=None,\n",
       "            min_impurity_decrease=0.0, min_impurity_split=None,\n",
       "            min_samples_leaf=1, min_samples_split=2,\n",
       "            min_weight_fraction_leaf=0.0, n_estimators=10, n_jobs=1,\n",
       "            oob_score=False, random_state=None, verbose=0,\n",
       "            warm_start=False)"
      ]
     },
     "execution_count": 10,
     "metadata": {},
     "output_type": "execute_result"
    },
    {
     "data": {
      "text/plain": [
       "RandomForestClassifier(bootstrap=True, class_weight=None, criterion='gini',\n",
       "            max_depth=None, max_features='auto', max_leaf_nodes=None,\n",
       "            min_impurity_decrease=0.0, min_impurity_split=None,\n",
       "            min_samples_leaf=1, min_samples_split=2,\n",
       "            min_weight_fraction_leaf=0.0, n_estimators=10, n_jobs=1,\n",
       "            oob_score=False, random_state=None, verbose=0,\n",
       "            warm_start=False)"
      ]
     },
     "execution_count": 10,
     "metadata": {},
     "output_type": "execute_result"
    }
   ],
   "source": [
    "classifiers.append(RandomForestClassifier())\n",
    "classifiers[-1]"
   ]
  },
  {
   "cell_type": "markdown",
   "metadata": {},
   "source": [
    "## 2.9. MLPClassifier"
   ]
  },
  {
   "cell_type": "code",
   "execution_count": 11,
   "metadata": {},
   "outputs": [
    {
     "data": {
      "text/plain": [
       "MLPClassifier(activation='relu', alpha=0.0001, batch_size='auto', beta_1=0.9,\n",
       "       beta_2=0.999, early_stopping=False, epsilon=1e-08,\n",
       "       hidden_layer_sizes=(100,), learning_rate='constant',\n",
       "       learning_rate_init=0.001, max_iter=200, momentum=0.9,\n",
       "       nesterovs_momentum=True, power_t=0.5, random_state=None,\n",
       "       shuffle=True, solver='adam', tol=0.0001, validation_fraction=0.1,\n",
       "       verbose=False, warm_start=False)"
      ]
     },
     "execution_count": 11,
     "metadata": {},
     "output_type": "execute_result"
    },
    {
     "data": {
      "text/plain": [
       "MLPClassifier(activation='relu', alpha=0.0001, batch_size='auto', beta_1=0.9,\n",
       "       beta_2=0.999, early_stopping=False, epsilon=1e-08,\n",
       "       hidden_layer_sizes=(100,), learning_rate='constant',\n",
       "       learning_rate_init=0.001, max_iter=200, momentum=0.9,\n",
       "       nesterovs_momentum=True, power_t=0.5, random_state=None,\n",
       "       shuffle=True, solver='adam', tol=0.0001, validation_fraction=0.1,\n",
       "       verbose=False, warm_start=False)"
      ]
     },
     "execution_count": 11,
     "metadata": {},
     "output_type": "execute_result"
    }
   ],
   "source": [
    "classifiers.append(MLPClassifier())\n",
    "classifiers[-1]"
   ]
  },
  {
   "cell_type": "markdown",
   "metadata": {},
   "source": [
    "# 2. Preparação e Análise dos dados"
   ]
  },
  {
   "cell_type": "code",
   "execution_count": 12,
   "metadata": {},
   "outputs": [],
   "source": [
    "dataset = pd.read_csv('dataset.csv')\n",
    "dataset = dataset.drop(columns=['Unnamed: 0'])"
   ]
  },
  {
   "cell_type": "code",
   "execution_count": 13,
   "metadata": {},
   "outputs": [
    {
     "data": {
      "text/html": [
       "<div>\n",
       "<style scoped>\n",
       "    .dataframe tbody tr th:only-of-type {\n",
       "        vertical-align: middle;\n",
       "    }\n",
       "\n",
       "    .dataframe tbody tr th {\n",
       "        vertical-align: top;\n",
       "    }\n",
       "\n",
       "    .dataframe thead th {\n",
       "        text-align: right;\n",
       "    }\n",
       "</style>\n",
       "<table border=\"1\" class=\"dataframe\">\n",
       "  <thead>\n",
       "    <tr style=\"text-align: right;\">\n",
       "      <th></th>\n",
       "      <th>sentence</th>\n",
       "      <th>word</th>\n",
       "      <th>nell_category</th>\n",
       "      <th>word_tag</th>\n",
       "      <th>nell_category_tag</th>\n",
       "      <th>word_is_category</th>\n",
       "      <th>distance_from_category</th>\n",
       "      <th>number_of_occurrences</th>\n",
       "      <th>is_category_candidate</th>\n",
       "    </tr>\n",
       "  </thead>\n",
       "  <tbody>\n",
       "    <tr>\n",
       "      <th>0</th>\n",
       "      <td>Bad rap actors good rap actors list?</td>\n",
       "      <td>bad</td>\n",
       "      <td>actor</td>\n",
       "      <td>JJ</td>\n",
       "      <td>NNS</td>\n",
       "      <td>no</td>\n",
       "      <td>2</td>\n",
       "      <td>3</td>\n",
       "      <td>NaN</td>\n",
       "    </tr>\n",
       "    <tr>\n",
       "      <th>1</th>\n",
       "      <td>Bad rap actors good rap actors list?</td>\n",
       "      <td>rap</td>\n",
       "      <td>actor</td>\n",
       "      <td>NN</td>\n",
       "      <td>NNS</td>\n",
       "      <td>no</td>\n",
       "      <td>1</td>\n",
       "      <td>2</td>\n",
       "      <td>NaN</td>\n",
       "    </tr>\n",
       "    <tr>\n",
       "      <th>2</th>\n",
       "      <td>Bad rap actors good rap actors list?</td>\n",
       "      <td>good</td>\n",
       "      <td>actor</td>\n",
       "      <td>JJ</td>\n",
       "      <td>NNS</td>\n",
       "      <td>no</td>\n",
       "      <td>1</td>\n",
       "      <td>11</td>\n",
       "      <td>NaN</td>\n",
       "    </tr>\n",
       "    <tr>\n",
       "      <th>3</th>\n",
       "      <td>Bad rap actors good rap actors list?</td>\n",
       "      <td>rap</td>\n",
       "      <td>actor</td>\n",
       "      <td>NN</td>\n",
       "      <td>NNS</td>\n",
       "      <td>no</td>\n",
       "      <td>1</td>\n",
       "      <td>2</td>\n",
       "      <td>NaN</td>\n",
       "    </tr>\n",
       "    <tr>\n",
       "      <th>4</th>\n",
       "      <td>Bad rap actors good rap actors list?</td>\n",
       "      <td>list</td>\n",
       "      <td>actor</td>\n",
       "      <td>NN</td>\n",
       "      <td>NNS</td>\n",
       "      <td>no</td>\n",
       "      <td>4</td>\n",
       "      <td>7</td>\n",
       "      <td>NaN</td>\n",
       "    </tr>\n",
       "  </tbody>\n",
       "</table>\n",
       "</div>"
      ],
      "text/plain": [
       "                               sentence  word nell_category word_tag  \\\n",
       "0  Bad rap actors good rap actors list?   bad         actor       JJ   \n",
       "1  Bad rap actors good rap actors list?   rap         actor       NN   \n",
       "2  Bad rap actors good rap actors list?  good         actor       JJ   \n",
       "3  Bad rap actors good rap actors list?   rap         actor       NN   \n",
       "4  Bad rap actors good rap actors list?  list         actor       NN   \n",
       "\n",
       "  nell_category_tag word_is_category  distance_from_category  \\\n",
       "0               NNS               no                       2   \n",
       "1               NNS               no                       1   \n",
       "2               NNS               no                       1   \n",
       "3               NNS               no                       1   \n",
       "4               NNS               no                       4   \n",
       "\n",
       "   number_of_occurrences  is_category_candidate  \n",
       "0                      3                    NaN  \n",
       "1                      2                    NaN  \n",
       "2                     11                    NaN  \n",
       "3                      2                    NaN  \n",
       "4                      7                    NaN  "
      ]
     },
     "execution_count": 13,
     "metadata": {},
     "output_type": "execute_result"
    },
    {
     "data": {
      "text/html": [
       "<div>\n",
       "<style scoped>\n",
       "    .dataframe tbody tr th:only-of-type {\n",
       "        vertical-align: middle;\n",
       "    }\n",
       "\n",
       "    .dataframe tbody tr th {\n",
       "        vertical-align: top;\n",
       "    }\n",
       "\n",
       "    .dataframe thead th {\n",
       "        text-align: right;\n",
       "    }\n",
       "</style>\n",
       "<table border=\"1\" class=\"dataframe\">\n",
       "  <thead>\n",
       "    <tr style=\"text-align: right;\">\n",
       "      <th></th>\n",
       "      <th>sentence</th>\n",
       "      <th>word</th>\n",
       "      <th>nell_category</th>\n",
       "      <th>word_tag</th>\n",
       "      <th>nell_category_tag</th>\n",
       "      <th>word_is_category</th>\n",
       "      <th>distance_from_category</th>\n",
       "      <th>number_of_occurrences</th>\n",
       "      <th>is_category_candidate</th>\n",
       "    </tr>\n",
       "  </thead>\n",
       "  <tbody>\n",
       "    <tr>\n",
       "      <th>0</th>\n",
       "      <td>Bad rap actors good rap actors list?</td>\n",
       "      <td>bad</td>\n",
       "      <td>actor</td>\n",
       "      <td>JJ</td>\n",
       "      <td>NNS</td>\n",
       "      <td>no</td>\n",
       "      <td>2</td>\n",
       "      <td>3</td>\n",
       "      <td>NaN</td>\n",
       "    </tr>\n",
       "    <tr>\n",
       "      <th>1</th>\n",
       "      <td>Bad rap actors good rap actors list?</td>\n",
       "      <td>rap</td>\n",
       "      <td>actor</td>\n",
       "      <td>NN</td>\n",
       "      <td>NNS</td>\n",
       "      <td>no</td>\n",
       "      <td>1</td>\n",
       "      <td>2</td>\n",
       "      <td>NaN</td>\n",
       "    </tr>\n",
       "    <tr>\n",
       "      <th>2</th>\n",
       "      <td>Bad rap actors good rap actors list?</td>\n",
       "      <td>good</td>\n",
       "      <td>actor</td>\n",
       "      <td>JJ</td>\n",
       "      <td>NNS</td>\n",
       "      <td>no</td>\n",
       "      <td>1</td>\n",
       "      <td>11</td>\n",
       "      <td>NaN</td>\n",
       "    </tr>\n",
       "    <tr>\n",
       "      <th>3</th>\n",
       "      <td>Bad rap actors good rap actors list?</td>\n",
       "      <td>rap</td>\n",
       "      <td>actor</td>\n",
       "      <td>NN</td>\n",
       "      <td>NNS</td>\n",
       "      <td>no</td>\n",
       "      <td>1</td>\n",
       "      <td>2</td>\n",
       "      <td>NaN</td>\n",
       "    </tr>\n",
       "    <tr>\n",
       "      <th>4</th>\n",
       "      <td>Bad rap actors good rap actors list?</td>\n",
       "      <td>list</td>\n",
       "      <td>actor</td>\n",
       "      <td>NN</td>\n",
       "      <td>NNS</td>\n",
       "      <td>no</td>\n",
       "      <td>4</td>\n",
       "      <td>7</td>\n",
       "      <td>NaN</td>\n",
       "    </tr>\n",
       "  </tbody>\n",
       "</table>\n",
       "</div>"
      ],
      "text/plain": [
       "                               sentence  word nell_category word_tag  \\\n",
       "0  Bad rap actors good rap actors list?   bad         actor       JJ   \n",
       "1  Bad rap actors good rap actors list?   rap         actor       NN   \n",
       "2  Bad rap actors good rap actors list?  good         actor       JJ   \n",
       "3  Bad rap actors good rap actors list?   rap         actor       NN   \n",
       "4  Bad rap actors good rap actors list?  list         actor       NN   \n",
       "\n",
       "  nell_category_tag word_is_category  distance_from_category  \\\n",
       "0               NNS               no                       2   \n",
       "1               NNS               no                       1   \n",
       "2               NNS               no                       1   \n",
       "3               NNS               no                       1   \n",
       "4               NNS               no                       4   \n",
       "\n",
       "   number_of_occurrences  is_category_candidate  \n",
       "0                      3                    NaN  \n",
       "1                      2                    NaN  \n",
       "2                     11                    NaN  \n",
       "3                      2                    NaN  \n",
       "4                      7                    NaN  "
      ]
     },
     "execution_count": 13,
     "metadata": {},
     "output_type": "execute_result"
    }
   ],
   "source": [
    "dataset.head()"
   ]
  },
  {
   "cell_type": "code",
   "execution_count": 14,
   "metadata": {},
   "outputs": [],
   "source": [
    "rotulos = pd.read_csv('rotulos.csv')"
   ]
  },
  {
   "cell_type": "code",
   "execution_count": 15,
   "metadata": {},
   "outputs": [],
   "source": [
    "dataset['is_category_candidate'] = rotulos['target']"
   ]
  },
  {
   "cell_type": "code",
   "execution_count": 16,
   "metadata": {},
   "outputs": [
    {
     "data": {
      "text/html": [
       "<div>\n",
       "<style scoped>\n",
       "    .dataframe tbody tr th:only-of-type {\n",
       "        vertical-align: middle;\n",
       "    }\n",
       "\n",
       "    .dataframe tbody tr th {\n",
       "        vertical-align: top;\n",
       "    }\n",
       "\n",
       "    .dataframe thead th {\n",
       "        text-align: right;\n",
       "    }\n",
       "</style>\n",
       "<table border=\"1\" class=\"dataframe\">\n",
       "  <thead>\n",
       "    <tr style=\"text-align: right;\">\n",
       "      <th></th>\n",
       "      <th>sentence</th>\n",
       "      <th>word</th>\n",
       "      <th>nell_category</th>\n",
       "      <th>word_tag</th>\n",
       "      <th>nell_category_tag</th>\n",
       "      <th>word_is_category</th>\n",
       "      <th>distance_from_category</th>\n",
       "      <th>number_of_occurrences</th>\n",
       "      <th>is_category_candidate</th>\n",
       "    </tr>\n",
       "  </thead>\n",
       "  <tbody>\n",
       "    <tr>\n",
       "      <th>0</th>\n",
       "      <td>Bad rap actors good rap actors list?</td>\n",
       "      <td>bad</td>\n",
       "      <td>actor</td>\n",
       "      <td>JJ</td>\n",
       "      <td>NNS</td>\n",
       "      <td>no</td>\n",
       "      <td>2</td>\n",
       "      <td>3</td>\n",
       "      <td>yes</td>\n",
       "    </tr>\n",
       "    <tr>\n",
       "      <th>1</th>\n",
       "      <td>Bad rap actors good rap actors list?</td>\n",
       "      <td>rap</td>\n",
       "      <td>actor</td>\n",
       "      <td>NN</td>\n",
       "      <td>NNS</td>\n",
       "      <td>no</td>\n",
       "      <td>1</td>\n",
       "      <td>2</td>\n",
       "      <td>no</td>\n",
       "    </tr>\n",
       "    <tr>\n",
       "      <th>2</th>\n",
       "      <td>Bad rap actors good rap actors list?</td>\n",
       "      <td>good</td>\n",
       "      <td>actor</td>\n",
       "      <td>JJ</td>\n",
       "      <td>NNS</td>\n",
       "      <td>no</td>\n",
       "      <td>1</td>\n",
       "      <td>11</td>\n",
       "      <td>no</td>\n",
       "    </tr>\n",
       "    <tr>\n",
       "      <th>3</th>\n",
       "      <td>Bad rap actors good rap actors list?</td>\n",
       "      <td>rap</td>\n",
       "      <td>actor</td>\n",
       "      <td>NN</td>\n",
       "      <td>NNS</td>\n",
       "      <td>no</td>\n",
       "      <td>1</td>\n",
       "      <td>2</td>\n",
       "      <td>no</td>\n",
       "    </tr>\n",
       "    <tr>\n",
       "      <th>4</th>\n",
       "      <td>Bad rap actors good rap actors list?</td>\n",
       "      <td>list</td>\n",
       "      <td>actor</td>\n",
       "      <td>NN</td>\n",
       "      <td>NNS</td>\n",
       "      <td>no</td>\n",
       "      <td>4</td>\n",
       "      <td>7</td>\n",
       "      <td>no</td>\n",
       "    </tr>\n",
       "  </tbody>\n",
       "</table>\n",
       "</div>"
      ],
      "text/plain": [
       "                               sentence  word nell_category word_tag  \\\n",
       "0  Bad rap actors good rap actors list?   bad         actor       JJ   \n",
       "1  Bad rap actors good rap actors list?   rap         actor       NN   \n",
       "2  Bad rap actors good rap actors list?  good         actor       JJ   \n",
       "3  Bad rap actors good rap actors list?   rap         actor       NN   \n",
       "4  Bad rap actors good rap actors list?  list         actor       NN   \n",
       "\n",
       "  nell_category_tag word_is_category  distance_from_category  \\\n",
       "0               NNS               no                       2   \n",
       "1               NNS               no                       1   \n",
       "2               NNS               no                       1   \n",
       "3               NNS               no                       1   \n",
       "4               NNS               no                       4   \n",
       "\n",
       "   number_of_occurrences is_category_candidate  \n",
       "0                      3                   yes  \n",
       "1                      2                    no  \n",
       "2                     11                    no  \n",
       "3                      2                    no  \n",
       "4                      7                    no  "
      ]
     },
     "execution_count": 16,
     "metadata": {},
     "output_type": "execute_result"
    },
    {
     "data": {
      "text/html": [
       "<div>\n",
       "<style scoped>\n",
       "    .dataframe tbody tr th:only-of-type {\n",
       "        vertical-align: middle;\n",
       "    }\n",
       "\n",
       "    .dataframe tbody tr th {\n",
       "        vertical-align: top;\n",
       "    }\n",
       "\n",
       "    .dataframe thead th {\n",
       "        text-align: right;\n",
       "    }\n",
       "</style>\n",
       "<table border=\"1\" class=\"dataframe\">\n",
       "  <thead>\n",
       "    <tr style=\"text-align: right;\">\n",
       "      <th></th>\n",
       "      <th>sentence</th>\n",
       "      <th>word</th>\n",
       "      <th>nell_category</th>\n",
       "      <th>word_tag</th>\n",
       "      <th>nell_category_tag</th>\n",
       "      <th>word_is_category</th>\n",
       "      <th>distance_from_category</th>\n",
       "      <th>number_of_occurrences</th>\n",
       "      <th>is_category_candidate</th>\n",
       "    </tr>\n",
       "  </thead>\n",
       "  <tbody>\n",
       "    <tr>\n",
       "      <th>0</th>\n",
       "      <td>Bad rap actors good rap actors list?</td>\n",
       "      <td>bad</td>\n",
       "      <td>actor</td>\n",
       "      <td>JJ</td>\n",
       "      <td>NNS</td>\n",
       "      <td>no</td>\n",
       "      <td>2</td>\n",
       "      <td>3</td>\n",
       "      <td>yes</td>\n",
       "    </tr>\n",
       "    <tr>\n",
       "      <th>1</th>\n",
       "      <td>Bad rap actors good rap actors list?</td>\n",
       "      <td>rap</td>\n",
       "      <td>actor</td>\n",
       "      <td>NN</td>\n",
       "      <td>NNS</td>\n",
       "      <td>no</td>\n",
       "      <td>1</td>\n",
       "      <td>2</td>\n",
       "      <td>no</td>\n",
       "    </tr>\n",
       "    <tr>\n",
       "      <th>2</th>\n",
       "      <td>Bad rap actors good rap actors list?</td>\n",
       "      <td>good</td>\n",
       "      <td>actor</td>\n",
       "      <td>JJ</td>\n",
       "      <td>NNS</td>\n",
       "      <td>no</td>\n",
       "      <td>1</td>\n",
       "      <td>11</td>\n",
       "      <td>no</td>\n",
       "    </tr>\n",
       "    <tr>\n",
       "      <th>3</th>\n",
       "      <td>Bad rap actors good rap actors list?</td>\n",
       "      <td>rap</td>\n",
       "      <td>actor</td>\n",
       "      <td>NN</td>\n",
       "      <td>NNS</td>\n",
       "      <td>no</td>\n",
       "      <td>1</td>\n",
       "      <td>2</td>\n",
       "      <td>no</td>\n",
       "    </tr>\n",
       "    <tr>\n",
       "      <th>4</th>\n",
       "      <td>Bad rap actors good rap actors list?</td>\n",
       "      <td>list</td>\n",
       "      <td>actor</td>\n",
       "      <td>NN</td>\n",
       "      <td>NNS</td>\n",
       "      <td>no</td>\n",
       "      <td>4</td>\n",
       "      <td>7</td>\n",
       "      <td>no</td>\n",
       "    </tr>\n",
       "  </tbody>\n",
       "</table>\n",
       "</div>"
      ],
      "text/plain": [
       "                               sentence  word nell_category word_tag  \\\n",
       "0  Bad rap actors good rap actors list?   bad         actor       JJ   \n",
       "1  Bad rap actors good rap actors list?   rap         actor       NN   \n",
       "2  Bad rap actors good rap actors list?  good         actor       JJ   \n",
       "3  Bad rap actors good rap actors list?   rap         actor       NN   \n",
       "4  Bad rap actors good rap actors list?  list         actor       NN   \n",
       "\n",
       "  nell_category_tag word_is_category  distance_from_category  \\\n",
       "0               NNS               no                       2   \n",
       "1               NNS               no                       1   \n",
       "2               NNS               no                       1   \n",
       "3               NNS               no                       1   \n",
       "4               NNS               no                       4   \n",
       "\n",
       "   number_of_occurrences is_category_candidate  \n",
       "0                      3                   yes  \n",
       "1                      2                    no  \n",
       "2                     11                    no  \n",
       "3                      2                    no  \n",
       "4                      7                    no  "
      ]
     },
     "execution_count": 16,
     "metadata": {},
     "output_type": "execute_result"
    }
   ],
   "source": [
    "dataset.head()"
   ]
  },
  {
   "cell_type": "code",
   "execution_count": 17,
   "metadata": {},
   "outputs": [
    {
     "data": {
      "text/plain": [
       "sentence                  object\n",
       "word                      object\n",
       "nell_category             object\n",
       "word_tag                  object\n",
       "nell_category_tag         object\n",
       "word_is_category          object\n",
       "distance_from_category     int64\n",
       "number_of_occurrences      int64\n",
       "is_category_candidate     object\n",
       "dtype: object"
      ]
     },
     "execution_count": 17,
     "metadata": {},
     "output_type": "execute_result"
    },
    {
     "data": {
      "text/plain": [
       "sentence                  object\n",
       "word                      object\n",
       "nell_category             object\n",
       "word_tag                  object\n",
       "nell_category_tag         object\n",
       "word_is_category          object\n",
       "distance_from_category     int64\n",
       "number_of_occurrences      int64\n",
       "is_category_candidate     object\n",
       "dtype: object"
      ]
     },
     "execution_count": 17,
     "metadata": {},
     "output_type": "execute_result"
    }
   ],
   "source": [
    "dataset.dtypes"
   ]
  },
  {
   "cell_type": "code",
   "execution_count": 18,
   "metadata": {},
   "outputs": [
    {
     "data": {
      "text/plain": [
       "sentence                    object\n",
       "word                        object\n",
       "nell_category             category\n",
       "word_tag                  category\n",
       "nell_category_tag         category\n",
       "word_is_category          category\n",
       "distance_from_category       int64\n",
       "number_of_occurrences        int64\n",
       "is_category_candidate     category\n",
       "dtype: object"
      ]
     },
     "execution_count": 18,
     "metadata": {},
     "output_type": "execute_result"
    },
    {
     "data": {
      "text/plain": [
       "sentence                    object\n",
       "word                        object\n",
       "nell_category             category\n",
       "word_tag                  category\n",
       "nell_category_tag         category\n",
       "word_is_category          category\n",
       "distance_from_category       int64\n",
       "number_of_occurrences        int64\n",
       "is_category_candidate     category\n",
       "dtype: object"
      ]
     },
     "execution_count": 18,
     "metadata": {},
     "output_type": "execute_result"
    }
   ],
   "source": [
    "#Alterando tipos de dados identificados automáticamente\n",
    "dataset['nell_category'] = pd.Categorical(dataset['nell_category'])\n",
    "dataset['word_tag'] = pd.Categorical(dataset['word_tag'])\n",
    "dataset['nell_category_tag'] = pd.Categorical(dataset['nell_category_tag'])\n",
    "dataset['word_is_category'] = pd.Categorical(dataset['word_is_category'])\n",
    "dataset['is_category_candidate'] = pd.Categorical(dataset['is_category_candidate'])\n",
    "dataset.dtypes  "
   ]
  },
  {
   "cell_type": "code",
   "execution_count": 19,
   "metadata": {},
   "outputs": [
    {
     "data": {
      "text/html": [
       "<div>\n",
       "<style scoped>\n",
       "    .dataframe tbody tr th:only-of-type {\n",
       "        vertical-align: middle;\n",
       "    }\n",
       "\n",
       "    .dataframe tbody tr th {\n",
       "        vertical-align: top;\n",
       "    }\n",
       "\n",
       "    .dataframe thead th {\n",
       "        text-align: right;\n",
       "    }\n",
       "</style>\n",
       "<table border=\"1\" class=\"dataframe\">\n",
       "  <thead>\n",
       "    <tr style=\"text-align: right;\">\n",
       "      <th></th>\n",
       "      <th>distance_from_category</th>\n",
       "      <th>number_of_occurrences</th>\n",
       "    </tr>\n",
       "  </thead>\n",
       "  <tbody>\n",
       "    <tr>\n",
       "      <th>count</th>\n",
       "      <td>372.000000</td>\n",
       "      <td>372.000000</td>\n",
       "    </tr>\n",
       "    <tr>\n",
       "      <th>mean</th>\n",
       "      <td>10.061828</td>\n",
       "      <td>5.258065</td>\n",
       "    </tr>\n",
       "    <tr>\n",
       "      <th>std</th>\n",
       "      <td>31.646531</td>\n",
       "      <td>5.420642</td>\n",
       "    </tr>\n",
       "    <tr>\n",
       "      <th>min</th>\n",
       "      <td>1.000000</td>\n",
       "      <td>1.000000</td>\n",
       "    </tr>\n",
       "    <tr>\n",
       "      <th>25%</th>\n",
       "      <td>1.000000</td>\n",
       "      <td>1.000000</td>\n",
       "    </tr>\n",
       "    <tr>\n",
       "      <th>50%</th>\n",
       "      <td>1.000000</td>\n",
       "      <td>3.000000</td>\n",
       "    </tr>\n",
       "    <tr>\n",
       "      <th>75%</th>\n",
       "      <td>3.000000</td>\n",
       "      <td>7.000000</td>\n",
       "    </tr>\n",
       "    <tr>\n",
       "      <th>max</th>\n",
       "      <td>240.000000</td>\n",
       "      <td>18.000000</td>\n",
       "    </tr>\n",
       "  </tbody>\n",
       "</table>\n",
       "</div>"
      ],
      "text/plain": [
       "       distance_from_category  number_of_occurrences\n",
       "count              372.000000             372.000000\n",
       "mean                10.061828               5.258065\n",
       "std                 31.646531               5.420642\n",
       "min                  1.000000               1.000000\n",
       "25%                  1.000000               1.000000\n",
       "50%                  1.000000               3.000000\n",
       "75%                  3.000000               7.000000\n",
       "max                240.000000              18.000000"
      ]
     },
     "execution_count": 19,
     "metadata": {},
     "output_type": "execute_result"
    },
    {
     "data": {
      "text/html": [
       "<div>\n",
       "<style scoped>\n",
       "    .dataframe tbody tr th:only-of-type {\n",
       "        vertical-align: middle;\n",
       "    }\n",
       "\n",
       "    .dataframe tbody tr th {\n",
       "        vertical-align: top;\n",
       "    }\n",
       "\n",
       "    .dataframe thead th {\n",
       "        text-align: right;\n",
       "    }\n",
       "</style>\n",
       "<table border=\"1\" class=\"dataframe\">\n",
       "  <thead>\n",
       "    <tr style=\"text-align: right;\">\n",
       "      <th></th>\n",
       "      <th>distance_from_category</th>\n",
       "      <th>number_of_occurrences</th>\n",
       "    </tr>\n",
       "  </thead>\n",
       "  <tbody>\n",
       "    <tr>\n",
       "      <th>count</th>\n",
       "      <td>372.000000</td>\n",
       "      <td>372.000000</td>\n",
       "    </tr>\n",
       "    <tr>\n",
       "      <th>mean</th>\n",
       "      <td>10.061828</td>\n",
       "      <td>5.258065</td>\n",
       "    </tr>\n",
       "    <tr>\n",
       "      <th>std</th>\n",
       "      <td>31.646531</td>\n",
       "      <td>5.420642</td>\n",
       "    </tr>\n",
       "    <tr>\n",
       "      <th>min</th>\n",
       "      <td>1.000000</td>\n",
       "      <td>1.000000</td>\n",
       "    </tr>\n",
       "    <tr>\n",
       "      <th>25%</th>\n",
       "      <td>1.000000</td>\n",
       "      <td>1.000000</td>\n",
       "    </tr>\n",
       "    <tr>\n",
       "      <th>50%</th>\n",
       "      <td>1.000000</td>\n",
       "      <td>3.000000</td>\n",
       "    </tr>\n",
       "    <tr>\n",
       "      <th>75%</th>\n",
       "      <td>3.000000</td>\n",
       "      <td>7.000000</td>\n",
       "    </tr>\n",
       "    <tr>\n",
       "      <th>max</th>\n",
       "      <td>240.000000</td>\n",
       "      <td>18.000000</td>\n",
       "    </tr>\n",
       "  </tbody>\n",
       "</table>\n",
       "</div>"
      ],
      "text/plain": [
       "       distance_from_category  number_of_occurrences\n",
       "count              372.000000             372.000000\n",
       "mean                10.061828               5.258065\n",
       "std                 31.646531               5.420642\n",
       "min                  1.000000               1.000000\n",
       "25%                  1.000000               1.000000\n",
       "50%                  1.000000               3.000000\n",
       "75%                  3.000000               7.000000\n",
       "max                240.000000              18.000000"
      ]
     },
     "execution_count": 19,
     "metadata": {},
     "output_type": "execute_result"
    }
   ],
   "source": [
    "dataset.describe(exclude=['category','object'])"
   ]
  },
  {
   "cell_type": "code",
   "execution_count": 20,
   "metadata": {},
   "outputs": [
    {
     "data": {
      "text/html": [
       "<div>\n",
       "<style scoped>\n",
       "    .dataframe tbody tr th:only-of-type {\n",
       "        vertical-align: middle;\n",
       "    }\n",
       "\n",
       "    .dataframe tbody tr th {\n",
       "        vertical-align: top;\n",
       "    }\n",
       "\n",
       "    .dataframe thead th {\n",
       "        text-align: right;\n",
       "    }\n",
       "</style>\n",
       "<table border=\"1\" class=\"dataframe\">\n",
       "  <thead>\n",
       "    <tr style=\"text-align: right;\">\n",
       "      <th></th>\n",
       "      <th>nell_category</th>\n",
       "      <th>word_tag</th>\n",
       "      <th>nell_category_tag</th>\n",
       "      <th>word_is_category</th>\n",
       "      <th>is_category_candidate</th>\n",
       "    </tr>\n",
       "  </thead>\n",
       "  <tbody>\n",
       "    <tr>\n",
       "      <th>count</th>\n",
       "      <td>372</td>\n",
       "      <td>324</td>\n",
       "      <td>355</td>\n",
       "      <td>372</td>\n",
       "      <td>372</td>\n",
       "    </tr>\n",
       "    <tr>\n",
       "      <th>unique</th>\n",
       "      <td>15</td>\n",
       "      <td>5</td>\n",
       "      <td>3</td>\n",
       "      <td>2</td>\n",
       "      <td>2</td>\n",
       "    </tr>\n",
       "    <tr>\n",
       "      <th>top</th>\n",
       "      <td>actor</td>\n",
       "      <td>JJ</td>\n",
       "      <td>NNS</td>\n",
       "      <td>no</td>\n",
       "      <td>no</td>\n",
       "    </tr>\n",
       "    <tr>\n",
       "      <th>freq</th>\n",
       "      <td>251</td>\n",
       "      <td>202</td>\n",
       "      <td>231</td>\n",
       "      <td>314</td>\n",
       "      <td>271</td>\n",
       "    </tr>\n",
       "  </tbody>\n",
       "</table>\n",
       "</div>"
      ],
      "text/plain": [
       "       nell_category word_tag nell_category_tag word_is_category  \\\n",
       "count            372      324               355              372   \n",
       "unique            15        5                 3                2   \n",
       "top            actor       JJ               NNS               no   \n",
       "freq             251      202               231              314   \n",
       "\n",
       "       is_category_candidate  \n",
       "count                    372  \n",
       "unique                     2  \n",
       "top                       no  \n",
       "freq                     271  "
      ]
     },
     "execution_count": 20,
     "metadata": {},
     "output_type": "execute_result"
    },
    {
     "data": {
      "text/html": [
       "<div>\n",
       "<style scoped>\n",
       "    .dataframe tbody tr th:only-of-type {\n",
       "        vertical-align: middle;\n",
       "    }\n",
       "\n",
       "    .dataframe tbody tr th {\n",
       "        vertical-align: top;\n",
       "    }\n",
       "\n",
       "    .dataframe thead th {\n",
       "        text-align: right;\n",
       "    }\n",
       "</style>\n",
       "<table border=\"1\" class=\"dataframe\">\n",
       "  <thead>\n",
       "    <tr style=\"text-align: right;\">\n",
       "      <th></th>\n",
       "      <th>nell_category</th>\n",
       "      <th>word_tag</th>\n",
       "      <th>nell_category_tag</th>\n",
       "      <th>word_is_category</th>\n",
       "      <th>is_category_candidate</th>\n",
       "    </tr>\n",
       "  </thead>\n",
       "  <tbody>\n",
       "    <tr>\n",
       "      <th>count</th>\n",
       "      <td>372</td>\n",
       "      <td>324</td>\n",
       "      <td>355</td>\n",
       "      <td>372</td>\n",
       "      <td>372</td>\n",
       "    </tr>\n",
       "    <tr>\n",
       "      <th>unique</th>\n",
       "      <td>15</td>\n",
       "      <td>5</td>\n",
       "      <td>3</td>\n",
       "      <td>2</td>\n",
       "      <td>2</td>\n",
       "    </tr>\n",
       "    <tr>\n",
       "      <th>top</th>\n",
       "      <td>actor</td>\n",
       "      <td>JJ</td>\n",
       "      <td>NNS</td>\n",
       "      <td>no</td>\n",
       "      <td>no</td>\n",
       "    </tr>\n",
       "    <tr>\n",
       "      <th>freq</th>\n",
       "      <td>251</td>\n",
       "      <td>202</td>\n",
       "      <td>231</td>\n",
       "      <td>314</td>\n",
       "      <td>271</td>\n",
       "    </tr>\n",
       "  </tbody>\n",
       "</table>\n",
       "</div>"
      ],
      "text/plain": [
       "       nell_category word_tag nell_category_tag word_is_category  \\\n",
       "count            372      324               355              372   \n",
       "unique            15        5                 3                2   \n",
       "top            actor       JJ               NNS               no   \n",
       "freq             251      202               231              314   \n",
       "\n",
       "       is_category_candidate  \n",
       "count                    372  \n",
       "unique                     2  \n",
       "top                       no  \n",
       "freq                     271  "
      ]
     },
     "execution_count": 20,
     "metadata": {},
     "output_type": "execute_result"
    }
   ],
   "source": [
    "#Análise dos dados\n",
    "dataset.describe(include=['category'])"
   ]
  },
  {
   "cell_type": "code",
   "execution_count": 21,
   "metadata": {},
   "outputs": [
    {
     "data": {
      "text/plain": [
       "sentence                   0\n",
       "word                       0\n",
       "nell_category              0\n",
       "word_tag                  48\n",
       "nell_category_tag         17\n",
       "word_is_category           0\n",
       "distance_from_category     0\n",
       "number_of_occurrences      0\n",
       "is_category_candidate      0\n",
       "dtype: int64"
      ]
     },
     "execution_count": 21,
     "metadata": {},
     "output_type": "execute_result"
    },
    {
     "data": {
      "text/plain": [
       "sentence                   0\n",
       "word                       0\n",
       "nell_category              0\n",
       "word_tag                  48\n",
       "nell_category_tag         17\n",
       "word_is_category           0\n",
       "distance_from_category     0\n",
       "number_of_occurrences      0\n",
       "is_category_candidate      0\n",
       "dtype: int64"
      ]
     },
     "execution_count": 21,
     "metadata": {},
     "output_type": "execute_result"
    }
   ],
   "source": [
    "# Tratamento de dados faltantes\n",
    "dataset.isnull().sum()"
   ]
  },
  {
   "cell_type": "code",
   "execution_count": 22,
   "metadata": {
    "scrolled": false
   },
   "outputs": [
    {
     "data": {
      "text/html": [
       "<div>\n",
       "<style scoped>\n",
       "    .dataframe tbody tr th:only-of-type {\n",
       "        vertical-align: middle;\n",
       "    }\n",
       "\n",
       "    .dataframe tbody tr th {\n",
       "        vertical-align: top;\n",
       "    }\n",
       "\n",
       "    .dataframe thead th {\n",
       "        text-align: right;\n",
       "    }\n",
       "</style>\n",
       "<table border=\"1\" class=\"dataframe\">\n",
       "  <thead>\n",
       "    <tr style=\"text-align: right;\">\n",
       "      <th></th>\n",
       "      <th>sentence</th>\n",
       "      <th>word</th>\n",
       "      <th>nell_category</th>\n",
       "      <th>word_tag</th>\n",
       "      <th>nell_category_tag</th>\n",
       "      <th>word_is_category</th>\n",
       "      <th>distance_from_category</th>\n",
       "      <th>number_of_occurrences</th>\n",
       "      <th>is_category_candidate</th>\n",
       "    </tr>\n",
       "  </thead>\n",
       "  <tbody>\n",
       "    <tr>\n",
       "      <th>0</th>\n",
       "      <td>Bad rap actors good rap actors list?</td>\n",
       "      <td>bad</td>\n",
       "      <td>actor</td>\n",
       "      <td>JJ</td>\n",
       "      <td>NNS</td>\n",
       "      <td>no</td>\n",
       "      <td>2</td>\n",
       "      <td>3</td>\n",
       "      <td>yes</td>\n",
       "    </tr>\n",
       "    <tr>\n",
       "      <th>1</th>\n",
       "      <td>Bad rap actors good rap actors list?</td>\n",
       "      <td>rap</td>\n",
       "      <td>actor</td>\n",
       "      <td>NN</td>\n",
       "      <td>NNS</td>\n",
       "      <td>no</td>\n",
       "      <td>1</td>\n",
       "      <td>2</td>\n",
       "      <td>no</td>\n",
       "    </tr>\n",
       "    <tr>\n",
       "      <th>2</th>\n",
       "      <td>Bad rap actors good rap actors list?</td>\n",
       "      <td>good</td>\n",
       "      <td>actor</td>\n",
       "      <td>JJ</td>\n",
       "      <td>NNS</td>\n",
       "      <td>no</td>\n",
       "      <td>1</td>\n",
       "      <td>11</td>\n",
       "      <td>no</td>\n",
       "    </tr>\n",
       "    <tr>\n",
       "      <th>3</th>\n",
       "      <td>Bad rap actors good rap actors list?</td>\n",
       "      <td>rap</td>\n",
       "      <td>actor</td>\n",
       "      <td>NN</td>\n",
       "      <td>NNS</td>\n",
       "      <td>no</td>\n",
       "      <td>1</td>\n",
       "      <td>2</td>\n",
       "      <td>no</td>\n",
       "    </tr>\n",
       "    <tr>\n",
       "      <th>4</th>\n",
       "      <td>Bad rap actors good rap actors list?</td>\n",
       "      <td>list</td>\n",
       "      <td>actor</td>\n",
       "      <td>NN</td>\n",
       "      <td>NNS</td>\n",
       "      <td>no</td>\n",
       "      <td>4</td>\n",
       "      <td>7</td>\n",
       "      <td>no</td>\n",
       "    </tr>\n",
       "  </tbody>\n",
       "</table>\n",
       "</div>"
      ],
      "text/plain": [
       "                               sentence  word nell_category word_tag  \\\n",
       "0  Bad rap actors good rap actors list?   bad         actor       JJ   \n",
       "1  Bad rap actors good rap actors list?   rap         actor       NN   \n",
       "2  Bad rap actors good rap actors list?  good         actor       JJ   \n",
       "3  Bad rap actors good rap actors list?   rap         actor       NN   \n",
       "4  Bad rap actors good rap actors list?  list         actor       NN   \n",
       "\n",
       "  nell_category_tag word_is_category  distance_from_category  \\\n",
       "0               NNS               no                       2   \n",
       "1               NNS               no                       1   \n",
       "2               NNS               no                       1   \n",
       "3               NNS               no                       1   \n",
       "4               NNS               no                       4   \n",
       "\n",
       "   number_of_occurrences is_category_candidate  \n",
       "0                      3                   yes  \n",
       "1                      2                    no  \n",
       "2                     11                    no  \n",
       "3                      2                    no  \n",
       "4                      7                    no  "
      ]
     },
     "execution_count": 22,
     "metadata": {},
     "output_type": "execute_result"
    },
    {
     "data": {
      "text/html": [
       "<div>\n",
       "<style scoped>\n",
       "    .dataframe tbody tr th:only-of-type {\n",
       "        vertical-align: middle;\n",
       "    }\n",
       "\n",
       "    .dataframe tbody tr th {\n",
       "        vertical-align: top;\n",
       "    }\n",
       "\n",
       "    .dataframe thead th {\n",
       "        text-align: right;\n",
       "    }\n",
       "</style>\n",
       "<table border=\"1\" class=\"dataframe\">\n",
       "  <thead>\n",
       "    <tr style=\"text-align: right;\">\n",
       "      <th></th>\n",
       "      <th>sentence</th>\n",
       "      <th>word</th>\n",
       "      <th>nell_category</th>\n",
       "      <th>word_tag</th>\n",
       "      <th>nell_category_tag</th>\n",
       "      <th>word_is_category</th>\n",
       "      <th>distance_from_category</th>\n",
       "      <th>number_of_occurrences</th>\n",
       "      <th>is_category_candidate</th>\n",
       "    </tr>\n",
       "  </thead>\n",
       "  <tbody>\n",
       "    <tr>\n",
       "      <th>0</th>\n",
       "      <td>Bad rap actors good rap actors list?</td>\n",
       "      <td>bad</td>\n",
       "      <td>actor</td>\n",
       "      <td>JJ</td>\n",
       "      <td>NNS</td>\n",
       "      <td>no</td>\n",
       "      <td>2</td>\n",
       "      <td>3</td>\n",
       "      <td>yes</td>\n",
       "    </tr>\n",
       "    <tr>\n",
       "      <th>1</th>\n",
       "      <td>Bad rap actors good rap actors list?</td>\n",
       "      <td>rap</td>\n",
       "      <td>actor</td>\n",
       "      <td>NN</td>\n",
       "      <td>NNS</td>\n",
       "      <td>no</td>\n",
       "      <td>1</td>\n",
       "      <td>2</td>\n",
       "      <td>no</td>\n",
       "    </tr>\n",
       "    <tr>\n",
       "      <th>2</th>\n",
       "      <td>Bad rap actors good rap actors list?</td>\n",
       "      <td>good</td>\n",
       "      <td>actor</td>\n",
       "      <td>JJ</td>\n",
       "      <td>NNS</td>\n",
       "      <td>no</td>\n",
       "      <td>1</td>\n",
       "      <td>11</td>\n",
       "      <td>no</td>\n",
       "    </tr>\n",
       "    <tr>\n",
       "      <th>3</th>\n",
       "      <td>Bad rap actors good rap actors list?</td>\n",
       "      <td>rap</td>\n",
       "      <td>actor</td>\n",
       "      <td>NN</td>\n",
       "      <td>NNS</td>\n",
       "      <td>no</td>\n",
       "      <td>1</td>\n",
       "      <td>2</td>\n",
       "      <td>no</td>\n",
       "    </tr>\n",
       "    <tr>\n",
       "      <th>4</th>\n",
       "      <td>Bad rap actors good rap actors list?</td>\n",
       "      <td>list</td>\n",
       "      <td>actor</td>\n",
       "      <td>NN</td>\n",
       "      <td>NNS</td>\n",
       "      <td>no</td>\n",
       "      <td>4</td>\n",
       "      <td>7</td>\n",
       "      <td>no</td>\n",
       "    </tr>\n",
       "  </tbody>\n",
       "</table>\n",
       "</div>"
      ],
      "text/plain": [
       "                               sentence  word nell_category word_tag  \\\n",
       "0  Bad rap actors good rap actors list?   bad         actor       JJ   \n",
       "1  Bad rap actors good rap actors list?   rap         actor       NN   \n",
       "2  Bad rap actors good rap actors list?  good         actor       JJ   \n",
       "3  Bad rap actors good rap actors list?   rap         actor       NN   \n",
       "4  Bad rap actors good rap actors list?  list         actor       NN   \n",
       "\n",
       "  nell_category_tag word_is_category  distance_from_category  \\\n",
       "0               NNS               no                       2   \n",
       "1               NNS               no                       1   \n",
       "2               NNS               no                       1   \n",
       "3               NNS               no                       1   \n",
       "4               NNS               no                       4   \n",
       "\n",
       "   number_of_occurrences is_category_candidate  \n",
       "0                      3                   yes  \n",
       "1                      2                    no  \n",
       "2                     11                    no  \n",
       "3                      2                    no  \n",
       "4                      7                    no  "
      ]
     },
     "execution_count": 22,
     "metadata": {},
     "output_type": "execute_result"
    }
   ],
   "source": [
    "dataset.head()"
   ]
  },
  {
   "cell_type": "code",
   "execution_count": 23,
   "metadata": {},
   "outputs": [],
   "source": [
    "dataset['word_tag'] = dataset.apply(lambda row: str(row['word_tag']), axis=1)\n",
    "dataset['nell_category_tag'] = dataset.apply(lambda row: str(row['nell_category_tag']), axis=1)"
   ]
  },
  {
   "cell_type": "code",
   "execution_count": 24,
   "metadata": {},
   "outputs": [],
   "source": [
    "enc = LabelEncoder()\n",
    "df = pd.DataFrame({'nell_category':enc.fit_transform(dataset['nell_category'])})\n",
    "df['word_tag'] = enc.fit_transform(dataset['word_tag'])\n",
    "df['nell_category_tag'] = enc.fit_transform(dataset['nell_category_tag'])\n",
    "df['word_is_category'] = enc.fit_transform(dataset['word_is_category'])\n",
    "df['distance_from_category'] = dataset['distance_from_category']\n",
    "df['number_of_occurrences'] = dataset['number_of_occurrences']\n",
    "df['is_category_candidate'] = enc.fit_transform(dataset['is_category_candidate'])"
   ]
  },
  {
   "cell_type": "code",
   "execution_count": 25,
   "metadata": {},
   "outputs": [
    {
     "data": {
      "text/html": [
       "<div>\n",
       "<style scoped>\n",
       "    .dataframe tbody tr th:only-of-type {\n",
       "        vertical-align: middle;\n",
       "    }\n",
       "\n",
       "    .dataframe tbody tr th {\n",
       "        vertical-align: top;\n",
       "    }\n",
       "\n",
       "    .dataframe thead th {\n",
       "        text-align: right;\n",
       "    }\n",
       "</style>\n",
       "<table border=\"1\" class=\"dataframe\">\n",
       "  <thead>\n",
       "    <tr style=\"text-align: right;\">\n",
       "      <th></th>\n",
       "      <th>nell_category</th>\n",
       "      <th>word_tag</th>\n",
       "      <th>nell_category_tag</th>\n",
       "      <th>word_is_category</th>\n",
       "      <th>distance_from_category</th>\n",
       "      <th>number_of_occurrences</th>\n",
       "      <th>is_category_candidate</th>\n",
       "    </tr>\n",
       "  </thead>\n",
       "  <tbody>\n",
       "    <tr>\n",
       "      <th>0</th>\n",
       "      <td>0</td>\n",
       "      <td>0</td>\n",
       "      <td>2</td>\n",
       "      <td>0</td>\n",
       "      <td>2</td>\n",
       "      <td>3</td>\n",
       "      <td>1</td>\n",
       "    </tr>\n",
       "    <tr>\n",
       "      <th>1</th>\n",
       "      <td>0</td>\n",
       "      <td>1</td>\n",
       "      <td>2</td>\n",
       "      <td>0</td>\n",
       "      <td>1</td>\n",
       "      <td>2</td>\n",
       "      <td>0</td>\n",
       "    </tr>\n",
       "    <tr>\n",
       "      <th>2</th>\n",
       "      <td>0</td>\n",
       "      <td>0</td>\n",
       "      <td>2</td>\n",
       "      <td>0</td>\n",
       "      <td>1</td>\n",
       "      <td>11</td>\n",
       "      <td>0</td>\n",
       "    </tr>\n",
       "    <tr>\n",
       "      <th>3</th>\n",
       "      <td>0</td>\n",
       "      <td>1</td>\n",
       "      <td>2</td>\n",
       "      <td>0</td>\n",
       "      <td>1</td>\n",
       "      <td>2</td>\n",
       "      <td>0</td>\n",
       "    </tr>\n",
       "    <tr>\n",
       "      <th>4</th>\n",
       "      <td>0</td>\n",
       "      <td>1</td>\n",
       "      <td>2</td>\n",
       "      <td>0</td>\n",
       "      <td>4</td>\n",
       "      <td>7</td>\n",
       "      <td>0</td>\n",
       "    </tr>\n",
       "  </tbody>\n",
       "</table>\n",
       "</div>"
      ],
      "text/plain": [
       "   nell_category  word_tag  nell_category_tag  word_is_category  \\\n",
       "0              0         0                  2                 0   \n",
       "1              0         1                  2                 0   \n",
       "2              0         0                  2                 0   \n",
       "3              0         1                  2                 0   \n",
       "4              0         1                  2                 0   \n",
       "\n",
       "   distance_from_category  number_of_occurrences  is_category_candidate  \n",
       "0                       2                      3                      1  \n",
       "1                       1                      2                      0  \n",
       "2                       1                     11                      0  \n",
       "3                       1                      2                      0  \n",
       "4                       4                      7                      0  "
      ]
     },
     "execution_count": 25,
     "metadata": {},
     "output_type": "execute_result"
    },
    {
     "data": {
      "text/html": [
       "<div>\n",
       "<style scoped>\n",
       "    .dataframe tbody tr th:only-of-type {\n",
       "        vertical-align: middle;\n",
       "    }\n",
       "\n",
       "    .dataframe tbody tr th {\n",
       "        vertical-align: top;\n",
       "    }\n",
       "\n",
       "    .dataframe thead th {\n",
       "        text-align: right;\n",
       "    }\n",
       "</style>\n",
       "<table border=\"1\" class=\"dataframe\">\n",
       "  <thead>\n",
       "    <tr style=\"text-align: right;\">\n",
       "      <th></th>\n",
       "      <th>nell_category</th>\n",
       "      <th>word_tag</th>\n",
       "      <th>nell_category_tag</th>\n",
       "      <th>word_is_category</th>\n",
       "      <th>distance_from_category</th>\n",
       "      <th>number_of_occurrences</th>\n",
       "      <th>is_category_candidate</th>\n",
       "    </tr>\n",
       "  </thead>\n",
       "  <tbody>\n",
       "    <tr>\n",
       "      <th>0</th>\n",
       "      <td>0</td>\n",
       "      <td>0</td>\n",
       "      <td>2</td>\n",
       "      <td>0</td>\n",
       "      <td>2</td>\n",
       "      <td>3</td>\n",
       "      <td>1</td>\n",
       "    </tr>\n",
       "    <tr>\n",
       "      <th>1</th>\n",
       "      <td>0</td>\n",
       "      <td>1</td>\n",
       "      <td>2</td>\n",
       "      <td>0</td>\n",
       "      <td>1</td>\n",
       "      <td>2</td>\n",
       "      <td>0</td>\n",
       "    </tr>\n",
       "    <tr>\n",
       "      <th>2</th>\n",
       "      <td>0</td>\n",
       "      <td>0</td>\n",
       "      <td>2</td>\n",
       "      <td>0</td>\n",
       "      <td>1</td>\n",
       "      <td>11</td>\n",
       "      <td>0</td>\n",
       "    </tr>\n",
       "    <tr>\n",
       "      <th>3</th>\n",
       "      <td>0</td>\n",
       "      <td>1</td>\n",
       "      <td>2</td>\n",
       "      <td>0</td>\n",
       "      <td>1</td>\n",
       "      <td>2</td>\n",
       "      <td>0</td>\n",
       "    </tr>\n",
       "    <tr>\n",
       "      <th>4</th>\n",
       "      <td>0</td>\n",
       "      <td>1</td>\n",
       "      <td>2</td>\n",
       "      <td>0</td>\n",
       "      <td>4</td>\n",
       "      <td>7</td>\n",
       "      <td>0</td>\n",
       "    </tr>\n",
       "  </tbody>\n",
       "</table>\n",
       "</div>"
      ],
      "text/plain": [
       "   nell_category  word_tag  nell_category_tag  word_is_category  \\\n",
       "0              0         0                  2                 0   \n",
       "1              0         1                  2                 0   \n",
       "2              0         0                  2                 0   \n",
       "3              0         1                  2                 0   \n",
       "4              0         1                  2                 0   \n",
       "\n",
       "   distance_from_category  number_of_occurrences  is_category_candidate  \n",
       "0                       2                      3                      1  \n",
       "1                       1                      2                      0  \n",
       "2                       1                     11                      0  \n",
       "3                       1                      2                      0  \n",
       "4                       4                      7                      0  "
      ]
     },
     "execution_count": 25,
     "metadata": {},
     "output_type": "execute_result"
    }
   ],
   "source": [
    "df.head()"
   ]
  },
  {
   "cell_type": "markdown",
   "metadata": {},
   "source": [
    "# 3. Treino"
   ]
  },
  {
   "cell_type": "code",
   "execution_count": 30,
   "metadata": {},
   "outputs": [],
   "source": [
    "? cross_val_score"
   ]
  },
  {
   "cell_type": "code",
   "execution_count": null,
   "metadata": {},
   "outputs": [],
   "source": [
    "scores = []\n",
    "for clf in classifiers:\n",
    "    scores.append(cross_val_score(clf, df.drop(columns=['is_category_candidate']),\n",
    "                                  df['is_category_candidate']),cv=10, n_jobs=4)"
   ]
  },
  {
   "cell_type": "markdown",
   "metadata": {},
   "source": [
    "# 4. Avaliação"
   ]
  },
  {
   "cell_type": "code",
   "execution_count": null,
   "metadata": {},
   "outputs": [],
   "source": []
  }
 ],
 "metadata": {
  "kernelspec": {
   "display_name": "Python 3",
   "language": "python",
   "name": "python3"
  },
  "language_info": {
   "codemirror_mode": {
    "name": "ipython",
    "version": 3
   },
   "file_extension": ".py",
   "mimetype": "text/x-python",
   "name": "python",
   "nbconvert_exporter": "python",
   "pygments_lexer": "ipython3",
   "version": "3.6.4"
  }
 },
 "nbformat": 4,
 "nbformat_minor": 2
}
